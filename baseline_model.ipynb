{
 "metadata": {
  "kernelspec": {
   "language": "python",
   "display_name": "Python 3",
   "name": "python3"
  },
  "language_info": {
   "name": "python",
   "version": "3.7.12",
   "mimetype": "text/x-python",
   "codemirror_mode": {
    "name": "ipython",
    "version": 3
   },
   "pygments_lexer": "ipython3",
   "nbconvert_exporter": "python",
   "file_extension": ".py"
  }
 },
 "nbformat_minor": 4,
 "nbformat": 4,
 "cells": [
  {
   "cell_type": "code",
   "source": [
    "!pip install simpletransformers"
   ],
   "metadata": {
    "trusted": true
   },
   "execution_count": null,
   "outputs": []
  },
  {
   "cell_type": "code",
   "source": [
    "# -*- coding: utf-8 -*-\n",
    "import pandas as pd  # data processing, CSV file I/O (e.g. pd.read_csv)\n",
    "import torch\n",
    "from transformers import logging, BertTokenizer\n",
    "from simpletransformers.classification import ClassificationModel\n",
    "from sklearn.metrics import accuracy_score\n",
    "from sklearn.metrics import balanced_accuracy_score, classification_report, confusion_matrix, ConfusionMatrixDisplay\n",
    "from sklearn.preprocessing import LabelEncoder\n",
    "import os\n",
    "import time\n",
    "from sklearn.model_selection import StratifiedKFold"
   ],
   "metadata": {
    "trusted": true
   },
   "execution_count": null,
   "outputs": []
  },
  {
   "cell_type": "code",
   "source": [
    "logging.set_verbosity_error()\n",
    "# set GPU\n",
    "torch.device(\"cuda\")\n",
    "use_cuda = torch.cuda.is_available()\n",
    "os.environ[\"TOKENIZERS_PARALLELISM\"] = \"false\"\n",
    "os.environ[\"CUDA_LAUNCH_BLOCKING\"] = \"1\"\n",
    "%matplotlib inline"
   ],
   "metadata": {
    "trusted": true
   },
   "execution_count": null,
   "outputs": []
  },
  {
   "cell_type": "code",
   "source": [
    "tokenizer = BertTokenizer.from_pretrained('dbmdz/bert-base-turkish-128k-uncased', do_lower_case=True, use_cuda=torch.cuda.is_available())"
   ],
   "metadata": {
    "trusted": true
   },
   "execution_count": null,
   "outputs": []
  },
  {
   "cell_type": "code",
   "source": [
    "df = pd.read_csv('/kaggle/input/teknofest2023/obs_clean_data.csv')\n",
    "df = pd.DataFrame(df, columns=['text', 'target'])"
   ],
   "metadata": {
    "trusted": true
   },
   "execution_count": null,
   "outputs": []
  },
  {
   "cell_type": "code",
   "execution_count": null,
   "outputs": [],
   "source": [
    "le = LabelEncoder()\n",
    "df[\"target\"] = le.fit_transform(df.target)"
   ],
   "metadata": {
    "collapsed": false
   }
  },
  {
   "cell_type": "code",
   "execution_count": null,
   "outputs": [],
   "source": [
    "print(df['target'].unique())\n",
    "print(df.head())"
   ],
   "metadata": {
    "collapsed": false
   }
  },
  {
   "cell_type": "code",
   "source": [
    "model = ClassificationModel('bert', 'dbmdz/bert-base-turkish-128k-uncased',\n",
    "                        num_labels=5,\n",
    "                        args={'reprocess_input_data': True,\n",
    "                        'overwrite_output_dir': True,\n",
    "                        'num_train_epochs': 3,\n",
    "                        \"output_dir\": \"bert_model\",\n",
    "                        \"warmup_steps\": 100,\n",
    "                        \"weight_decay\":0,\n",
    "                        \"load_best_model_at_end\": True,\n",
    "                        \"use_early_stopping\": True,\n",
    "                        \"early_stopping_patience\": 5,\n",
    "                        \"early_stopping_delta\": 0.001,\n",
    "                        \"max_length\": 80,\n",
    "                        \"tokenizer_name\": tokenizer,\n",
    "                        \"manual_seed\": 42},\n",
    "                        use_cuda=torch.cuda.is_available())"
   ],
   "metadata": {
    "trusted": true
   },
   "execution_count": null,
   "outputs": []
  },
  {
   "cell_type": "code",
   "source": [
    "kf = StratifiedKFold(n_splits=5, shuffle=True, random_state=42)\n",
    "#kf = KFold(n_splits=2)\n",
    "results = []\n",
    "df[\"target\"] = df[\"target\"].astype(int)\n",
    "model_outputs = None\n",
    "val_df = None\n",
    "for train_index, val_index in kf.split(df['text'], df['target']):\n",
    "    try:\n",
    "        # splitting Dataframe (dataset not included)\n",
    "        train_df = df.iloc[train_index]\n",
    "        val_df = df.iloc[val_index]\n",
    "        # train and validate the model\n",
    "        print(val_df.head())\n",
    "        model.train_model(train_df)\n",
    "        time.sleep(5)\n",
    "\n",
    "        result, model_outputs, wrong_predictions = model.eval_model(val_df, acc=accuracy_score)\n",
    "        print(f'Acc : {result[\"acc\"]}')\n",
    "        # append model score\n",
    "        results.append(result[\"acc\"])\n",
    "    except Exception as ex:\n",
    "        print('hata: ', ex)\n"
   ],
   "metadata": {
    "trusted": true
   },
   "execution_count": null,
   "outputs": []
  },
  {
   "cell_type": "code",
   "source": [
    "print(\"results\", results)\n",
    "print(f\"Mean-Precision: {sum(results) / len(results)}\")"
   ],
   "metadata": {
    "trusted": true
   },
   "execution_count": null,
   "outputs": []
  },
  {
   "cell_type": "code",
   "source": [
    "predictions = model_outputs.argmax(axis=1)\n",
    "actuals = val_df.label.values"
   ],
   "metadata": {
    "trusted": true
   },
   "execution_count": null,
   "outputs": []
  },
  {
   "cell_type": "code",
   "source": [
    "print(classification_report(actuals, predictions, digits=3))\n",
    "print(balanced_accuracy_score(actuals, predictions))\n",
    "cm = confusion_matrix(actuals, predictions, labels=[0, 1, 2, 3, 4])\n",
    "print(cm)\n",
    "tn, fp, fn, tp = cm\n",
    "print((tn, fp, fn, tp))"
   ],
   "metadata": {
    "trusted": true
   },
   "execution_count": null,
   "outputs": []
  },
  {
   "cell_type": "code",
   "source": [
    "disp = ConfusionMatrixDisplay(confusion_matrix=cm,\n",
    "                              display_labels=[0, 1, 2, 3, 4])\n",
    "disp.plot()"
   ],
   "metadata": {
    "trusted": true
   },
   "execution_count": null,
   "outputs": []
  },
  {
   "cell_type": "code",
   "execution_count": null,
   "outputs": [],
   "source": [
    "\"\"\"\n",
    "INSULT    --> 0\n",
    "OTHER     --> 1\n",
    "PROFANITY --> 2\n",
    "RACIST    --> 3\n",
    "SEXIST    --> 4\n",
    "\"\"\""
   ],
   "metadata": {
    "collapsed": false
   }
  }
 ]
}
