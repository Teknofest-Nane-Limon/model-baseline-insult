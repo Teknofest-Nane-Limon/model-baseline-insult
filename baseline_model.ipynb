{
  "cells": [
    {
      "cell_type": "code",
      "execution_count": 65,
      "metadata": {
        "pycharm": {
          "name": "#%%\n"
        },
        "trusted": true,
        "id": "2kNLXzQBuC1k"
      },
      "outputs": [],
      "source": [
        "import pandas as pd\n",
        "import torch\n",
        "import os\n",
        "import time\n",
        "import random\n",
        "import datetime\n",
        "import numpy as np\n",
        "import matplotlib.pyplot as plt\n",
        "from sklearn.preprocessing import LabelEncoder\n",
        "from sklearn.metrics import f1_score, recall_score, precision_score, classification_report, accuracy_score, confusion_matrix\n",
        "from torch.utils.data import TensorDataset, random_split, DataLoader, RandomSampler, SequentialSampler\n",
        "from transformers import (\n",
        "    BertTokenizer,\n",
        "    BertConfig,\n",
        "    BertForSequenceClassification,\n",
        "    AdamW,\n",
        "    Adafactor,\n",
        "    get_linear_schedule_with_warmup,\n",
        "    logging,\n",
        ")\n",
        "from simpletransformers.classification import ClassificationModel"
      ]
    },
    {
      "cell_type": "code",
      "source": [
        "from google.colab import drive\n",
        "\n",
        "drive.mount('/content/drive')"
      ],
      "metadata": {
        "colab": {
          "base_uri": "https://localhost:8080/"
        },
        "id": "2f597SVbu1ap",
        "outputId": "86710164-51e8-4b90-e9e6-00db8bbd9b89"
      },
      "execution_count": 32,
      "outputs": [
        {
          "output_type": "stream",
          "name": "stdout",
          "text": [
            "Drive already mounted at /content/drive; to attempt to forcibly remount, call drive.mount(\"/content/drive\", force_remount=True).\n"
          ]
        }
      ]
    },
    {
      "cell_type": "code",
      "execution_count": 33,
      "metadata": {
        "pycharm": {
          "name": "#%%\n"
        },
        "trusted": true,
        "colab": {
          "base_uri": "https://localhost:8080/"
        },
        "id": "7VJY0QVmuC1m",
        "outputId": "859668b8-228c-4f76-e8b8-7d92c325162e"
      },
      "outputs": [
        {
          "output_type": "stream",
          "name": "stdout",
          "text": [
            "GPU: NVIDIA A100-SXM4-40GB\n"
          ]
        }
      ],
      "source": [
        "import tensorflow as tf\n",
        "device_name = tf.test.gpu_device_name()\n",
        "if device_name == '/device:GPU:0':\n",
        "  device = torch.device(\"cuda\")\n",
        "  print('GPU:', torch.cuda.get_device_name(0))\n",
        "else:\n",
        "  raise SystemError('GPU device not found')"
      ]
    },
    {
      "cell_type": "code",
      "execution_count": 34,
      "metadata": {
        "pycharm": {
          "name": "#%%\n"
        },
        "trusted": true,
        "id": "RkOf-3QGuC1m"
      },
      "outputs": [],
      "source": [
        "tokenizer = BertTokenizer.from_pretrained('dbmdz/bert-base-turkish-128k-uncased', do_lower_case=True, use_cuda=torch.cuda.is_available())"
      ]
    },
    {
      "cell_type": "code",
      "execution_count": 35,
      "metadata": {
        "pycharm": {
          "name": "#%%\n"
        },
        "trusted": true,
        "id": "1BfKbwhPuC1m"
      },
      "outputs": [],
      "source": [
        "df = pd.read_csv('/content/drive/MyDrive/Nane&Limon/Dataset/teknofest_train_final.csv',sep=\"|\")\n",
        "df = pd.DataFrame(df, columns=['text', 'target'])"
      ]
    },
    {
      "cell_type": "code",
      "execution_count": 36,
      "metadata": {
        "pycharm": {
          "name": "#%%\n"
        },
        "id": "cVs05_KeuC1n"
      },
      "outputs": [],
      "source": [
        "le = LabelEncoder()\n",
        "df[\"target\"] = le.fit_transform(df.target)"
      ]
    },
    {
      "cell_type": "code",
      "execution_count": 37,
      "metadata": {
        "pycharm": {
          "name": "#%%\n"
        },
        "colab": {
          "base_uri": "https://localhost:8080/"
        },
        "id": "YmZGBwOZuC1n",
        "outputId": "89d84299-b04e-472d-e22f-af44006e9b38"
      },
      "outputs": [
        {
          "output_type": "stream",
          "name": "stdout",
          "text": [
            "[0 3 4 2 1]\n",
            "                                                text  target\n",
            "0                                        çürük dişli       0\n",
            "1  Bu adamın islama ve müslümanlara verdiği zarar...       3\n",
            "2                               erkekler zora gelmez       4\n",
            "3  Utanmazın götüne kazık sokmuşlar bu tıkırtı ne...       2\n",
            "4     otomasyon< sistemlerine= doğrudan bağlanabilir       1\n"
          ]
        }
      ],
      "source": [
        "print(df['target'].unique())\n",
        "print(df.head())"
      ]
    },
    {
      "cell_type": "code",
      "source": [
        "training = df.groupby('target').apply(lambda x : x.sample(frac = 0.8))\n",
        "test = pd.concat([df,training]).drop_duplicates(keep=False)"
      ],
      "metadata": {
        "id": "x4g69kg_3G7R"
      },
      "execution_count": 38,
      "outputs": []
    },
    {
      "cell_type": "code",
      "source": [
        "training.reset_index(drop=True)"
      ],
      "metadata": {
        "colab": {
          "base_uri": "https://localhost:8080/",
          "height": 424
        },
        "id": "pHtqlGYH3P63",
        "outputId": "db156178-d429-4e20-a2be-99acd512768a"
      },
      "execution_count": 39,
      "outputs": [
        {
          "output_type": "execute_result",
          "data": {
            "text/plain": [
              "                                                text  target\n",
              "0                    beynin seni terkedeli çok olmuş       0\n",
              "1                        ne cırtlak bi sese sahipsin       0\n",
              "2      Biraz daha yersen balinadan farkın kalmıyacak       0\n",
              "3             sen daha dünki yeni yetme küçük sünepe       0\n",
              "4               kus beyinli git kendine sakla aklini       0\n",
              "...                                              ...     ...\n",
              "10089     Kadın dediğin evinde oturur çocuğuna bakar       4\n",
              "10090                         Kızı olanın dili olmaz       4\n",
              "10091                     Kadın dayak yesede susmalı       4\n",
              "10092           Elinin hamuruyla erkek işine karışma       4\n",
              "10093             erkeksiz avrat hic bireye benzemez       4\n",
              "\n",
              "[10094 rows x 2 columns]"
            ],
            "text/html": [
              "\n",
              "  <div id=\"df-9f5ef98b-60ba-4086-998f-347123d1892e\">\n",
              "    <div class=\"colab-df-container\">\n",
              "      <div>\n",
              "<style scoped>\n",
              "    .dataframe tbody tr th:only-of-type {\n",
              "        vertical-align: middle;\n",
              "    }\n",
              "\n",
              "    .dataframe tbody tr th {\n",
              "        vertical-align: top;\n",
              "    }\n",
              "\n",
              "    .dataframe thead th {\n",
              "        text-align: right;\n",
              "    }\n",
              "</style>\n",
              "<table border=\"1\" class=\"dataframe\">\n",
              "  <thead>\n",
              "    <tr style=\"text-align: right;\">\n",
              "      <th></th>\n",
              "      <th>text</th>\n",
              "      <th>target</th>\n",
              "    </tr>\n",
              "  </thead>\n",
              "  <tbody>\n",
              "    <tr>\n",
              "      <th>0</th>\n",
              "      <td>beynin seni terkedeli çok olmuş</td>\n",
              "      <td>0</td>\n",
              "    </tr>\n",
              "    <tr>\n",
              "      <th>1</th>\n",
              "      <td>ne cırtlak bi sese sahipsin</td>\n",
              "      <td>0</td>\n",
              "    </tr>\n",
              "    <tr>\n",
              "      <th>2</th>\n",
              "      <td>Biraz daha yersen balinadan farkın kalmıyacak</td>\n",
              "      <td>0</td>\n",
              "    </tr>\n",
              "    <tr>\n",
              "      <th>3</th>\n",
              "      <td>sen daha dünki yeni yetme küçük sünepe</td>\n",
              "      <td>0</td>\n",
              "    </tr>\n",
              "    <tr>\n",
              "      <th>4</th>\n",
              "      <td>kus beyinli git kendine sakla aklini</td>\n",
              "      <td>0</td>\n",
              "    </tr>\n",
              "    <tr>\n",
              "      <th>...</th>\n",
              "      <td>...</td>\n",
              "      <td>...</td>\n",
              "    </tr>\n",
              "    <tr>\n",
              "      <th>10089</th>\n",
              "      <td>Kadın dediğin evinde oturur çocuğuna bakar</td>\n",
              "      <td>4</td>\n",
              "    </tr>\n",
              "    <tr>\n",
              "      <th>10090</th>\n",
              "      <td>Kızı olanın dili olmaz</td>\n",
              "      <td>4</td>\n",
              "    </tr>\n",
              "    <tr>\n",
              "      <th>10091</th>\n",
              "      <td>Kadın dayak yesede susmalı</td>\n",
              "      <td>4</td>\n",
              "    </tr>\n",
              "    <tr>\n",
              "      <th>10092</th>\n",
              "      <td>Elinin hamuruyla erkek işine karışma</td>\n",
              "      <td>4</td>\n",
              "    </tr>\n",
              "    <tr>\n",
              "      <th>10093</th>\n",
              "      <td>erkeksiz avrat hic bireye benzemez</td>\n",
              "      <td>4</td>\n",
              "    </tr>\n",
              "  </tbody>\n",
              "</table>\n",
              "<p>10094 rows × 2 columns</p>\n",
              "</div>\n",
              "      <button class=\"colab-df-convert\" onclick=\"convertToInteractive('df-9f5ef98b-60ba-4086-998f-347123d1892e')\"\n",
              "              title=\"Convert this dataframe to an interactive table.\"\n",
              "              style=\"display:none;\">\n",
              "        \n",
              "  <svg xmlns=\"http://www.w3.org/2000/svg\" height=\"24px\"viewBox=\"0 0 24 24\"\n",
              "       width=\"24px\">\n",
              "    <path d=\"M0 0h24v24H0V0z\" fill=\"none\"/>\n",
              "    <path d=\"M18.56 5.44l.94 2.06.94-2.06 2.06-.94-2.06-.94-.94-2.06-.94 2.06-2.06.94zm-11 1L8.5 8.5l.94-2.06 2.06-.94-2.06-.94L8.5 2.5l-.94 2.06-2.06.94zm10 10l.94 2.06.94-2.06 2.06-.94-2.06-.94-.94-2.06-.94 2.06-2.06.94z\"/><path d=\"M17.41 7.96l-1.37-1.37c-.4-.4-.92-.59-1.43-.59-.52 0-1.04.2-1.43.59L10.3 9.45l-7.72 7.72c-.78.78-.78 2.05 0 2.83L4 21.41c.39.39.9.59 1.41.59.51 0 1.02-.2 1.41-.59l7.78-7.78 2.81-2.81c.8-.78.8-2.07 0-2.86zM5.41 20L4 18.59l7.72-7.72 1.47 1.35L5.41 20z\"/>\n",
              "  </svg>\n",
              "      </button>\n",
              "      \n",
              "  <style>\n",
              "    .colab-df-container {\n",
              "      display:flex;\n",
              "      flex-wrap:wrap;\n",
              "      gap: 12px;\n",
              "    }\n",
              "\n",
              "    .colab-df-convert {\n",
              "      background-color: #E8F0FE;\n",
              "      border: none;\n",
              "      border-radius: 50%;\n",
              "      cursor: pointer;\n",
              "      display: none;\n",
              "      fill: #1967D2;\n",
              "      height: 32px;\n",
              "      padding: 0 0 0 0;\n",
              "      width: 32px;\n",
              "    }\n",
              "\n",
              "    .colab-df-convert:hover {\n",
              "      background-color: #E2EBFA;\n",
              "      box-shadow: 0px 1px 2px rgba(60, 64, 67, 0.3), 0px 1px 3px 1px rgba(60, 64, 67, 0.15);\n",
              "      fill: #174EA6;\n",
              "    }\n",
              "\n",
              "    [theme=dark] .colab-df-convert {\n",
              "      background-color: #3B4455;\n",
              "      fill: #D2E3FC;\n",
              "    }\n",
              "\n",
              "    [theme=dark] .colab-df-convert:hover {\n",
              "      background-color: #434B5C;\n",
              "      box-shadow: 0px 1px 3px 1px rgba(0, 0, 0, 0.15);\n",
              "      filter: drop-shadow(0px 1px 2px rgba(0, 0, 0, 0.3));\n",
              "      fill: #FFFFFF;\n",
              "    }\n",
              "  </style>\n",
              "\n",
              "      <script>\n",
              "        const buttonEl =\n",
              "          document.querySelector('#df-9f5ef98b-60ba-4086-998f-347123d1892e button.colab-df-convert');\n",
              "        buttonEl.style.display =\n",
              "          google.colab.kernel.accessAllowed ? 'block' : 'none';\n",
              "\n",
              "        async function convertToInteractive(key) {\n",
              "          const element = document.querySelector('#df-9f5ef98b-60ba-4086-998f-347123d1892e');\n",
              "          const dataTable =\n",
              "            await google.colab.kernel.invokeFunction('convertToInteractive',\n",
              "                                                     [key], {});\n",
              "          if (!dataTable) return;\n",
              "\n",
              "          const docLinkHtml = 'Like what you see? Visit the ' +\n",
              "            '<a target=\"_blank\" href=https://colab.research.google.com/notebooks/data_table.ipynb>data table notebook</a>'\n",
              "            + ' to learn more about interactive tables.';\n",
              "          element.innerHTML = '';\n",
              "          dataTable['output_type'] = 'display_data';\n",
              "          await google.colab.output.renderOutput(dataTable, element);\n",
              "          const docLink = document.createElement('div');\n",
              "          docLink.innerHTML = docLinkHtml;\n",
              "          element.appendChild(docLink);\n",
              "        }\n",
              "      </script>\n",
              "    </div>\n",
              "  </div>\n",
              "  "
            ]
          },
          "metadata": {},
          "execution_count": 39
        }
      ]
    },
    {
      "cell_type": "code",
      "source": [
        "test.reset_index(drop=True)"
      ],
      "metadata": {
        "colab": {
          "base_uri": "https://localhost:8080/",
          "height": 424
        },
        "id": "jy3WflnO3RaH",
        "outputId": "cbfbb5fe-2575-43dd-8bd4-4587dcb65978"
      },
      "execution_count": 40,
      "outputs": [
        {
          "output_type": "execute_result",
          "data": {
            "text/plain": [
              "                                                   text  target\n",
              "0        otomasyon< sistemlerine= doğrudan bağlanabilir       1\n",
              "1     Kadın yönetici sayısı oldukça az olduğu için ş...       4\n",
              "2     makara bunu duyunca avluya çıkmış ve kızağa sa...       1\n",
              "3                                     işe yaramaz herif       0\n",
              "4     annenin babası bir türk bile olsa umurumda değ...       3\n",
              "...                                                 ...     ...\n",
              "2491  en birinci emelleri oğullarına yahut kardeşler...       1\n",
              "2492        hiçbir tane de mi ceren gözlü kürt kızı yok       1\n",
              "2493              yanlarında bir de ermeni papaz vardır       1\n",
              "2494  macaristandan almanyaya fon tepkisi macaristan...       1\n",
              "2495  uyuma taklidi yapan tehlikeli bir hayvanın göz...       1\n",
              "\n",
              "[2496 rows x 2 columns]"
            ],
            "text/html": [
              "\n",
              "  <div id=\"df-89b602e5-5a72-4d3e-8338-2b89ba3c25a8\">\n",
              "    <div class=\"colab-df-container\">\n",
              "      <div>\n",
              "<style scoped>\n",
              "    .dataframe tbody tr th:only-of-type {\n",
              "        vertical-align: middle;\n",
              "    }\n",
              "\n",
              "    .dataframe tbody tr th {\n",
              "        vertical-align: top;\n",
              "    }\n",
              "\n",
              "    .dataframe thead th {\n",
              "        text-align: right;\n",
              "    }\n",
              "</style>\n",
              "<table border=\"1\" class=\"dataframe\">\n",
              "  <thead>\n",
              "    <tr style=\"text-align: right;\">\n",
              "      <th></th>\n",
              "      <th>text</th>\n",
              "      <th>target</th>\n",
              "    </tr>\n",
              "  </thead>\n",
              "  <tbody>\n",
              "    <tr>\n",
              "      <th>0</th>\n",
              "      <td>otomasyon&lt; sistemlerine= doğrudan bağlanabilir</td>\n",
              "      <td>1</td>\n",
              "    </tr>\n",
              "    <tr>\n",
              "      <th>1</th>\n",
              "      <td>Kadın yönetici sayısı oldukça az olduğu için ş...</td>\n",
              "      <td>4</td>\n",
              "    </tr>\n",
              "    <tr>\n",
              "      <th>2</th>\n",
              "      <td>makara bunu duyunca avluya çıkmış ve kızağa sa...</td>\n",
              "      <td>1</td>\n",
              "    </tr>\n",
              "    <tr>\n",
              "      <th>3</th>\n",
              "      <td>işe yaramaz herif</td>\n",
              "      <td>0</td>\n",
              "    </tr>\n",
              "    <tr>\n",
              "      <th>4</th>\n",
              "      <td>annenin babası bir türk bile olsa umurumda değ...</td>\n",
              "      <td>3</td>\n",
              "    </tr>\n",
              "    <tr>\n",
              "      <th>...</th>\n",
              "      <td>...</td>\n",
              "      <td>...</td>\n",
              "    </tr>\n",
              "    <tr>\n",
              "      <th>2491</th>\n",
              "      <td>en birinci emelleri oğullarına yahut kardeşler...</td>\n",
              "      <td>1</td>\n",
              "    </tr>\n",
              "    <tr>\n",
              "      <th>2492</th>\n",
              "      <td>hiçbir tane de mi ceren gözlü kürt kızı yok</td>\n",
              "      <td>1</td>\n",
              "    </tr>\n",
              "    <tr>\n",
              "      <th>2493</th>\n",
              "      <td>yanlarında bir de ermeni papaz vardır</td>\n",
              "      <td>1</td>\n",
              "    </tr>\n",
              "    <tr>\n",
              "      <th>2494</th>\n",
              "      <td>macaristandan almanyaya fon tepkisi macaristan...</td>\n",
              "      <td>1</td>\n",
              "    </tr>\n",
              "    <tr>\n",
              "      <th>2495</th>\n",
              "      <td>uyuma taklidi yapan tehlikeli bir hayvanın göz...</td>\n",
              "      <td>1</td>\n",
              "    </tr>\n",
              "  </tbody>\n",
              "</table>\n",
              "<p>2496 rows × 2 columns</p>\n",
              "</div>\n",
              "      <button class=\"colab-df-convert\" onclick=\"convertToInteractive('df-89b602e5-5a72-4d3e-8338-2b89ba3c25a8')\"\n",
              "              title=\"Convert this dataframe to an interactive table.\"\n",
              "              style=\"display:none;\">\n",
              "        \n",
              "  <svg xmlns=\"http://www.w3.org/2000/svg\" height=\"24px\"viewBox=\"0 0 24 24\"\n",
              "       width=\"24px\">\n",
              "    <path d=\"M0 0h24v24H0V0z\" fill=\"none\"/>\n",
              "    <path d=\"M18.56 5.44l.94 2.06.94-2.06 2.06-.94-2.06-.94-.94-2.06-.94 2.06-2.06.94zm-11 1L8.5 8.5l.94-2.06 2.06-.94-2.06-.94L8.5 2.5l-.94 2.06-2.06.94zm10 10l.94 2.06.94-2.06 2.06-.94-2.06-.94-.94-2.06-.94 2.06-2.06.94z\"/><path d=\"M17.41 7.96l-1.37-1.37c-.4-.4-.92-.59-1.43-.59-.52 0-1.04.2-1.43.59L10.3 9.45l-7.72 7.72c-.78.78-.78 2.05 0 2.83L4 21.41c.39.39.9.59 1.41.59.51 0 1.02-.2 1.41-.59l7.78-7.78 2.81-2.81c.8-.78.8-2.07 0-2.86zM5.41 20L4 18.59l7.72-7.72 1.47 1.35L5.41 20z\"/>\n",
              "  </svg>\n",
              "      </button>\n",
              "      \n",
              "  <style>\n",
              "    .colab-df-container {\n",
              "      display:flex;\n",
              "      flex-wrap:wrap;\n",
              "      gap: 12px;\n",
              "    }\n",
              "\n",
              "    .colab-df-convert {\n",
              "      background-color: #E8F0FE;\n",
              "      border: none;\n",
              "      border-radius: 50%;\n",
              "      cursor: pointer;\n",
              "      display: none;\n",
              "      fill: #1967D2;\n",
              "      height: 32px;\n",
              "      padding: 0 0 0 0;\n",
              "      width: 32px;\n",
              "    }\n",
              "\n",
              "    .colab-df-convert:hover {\n",
              "      background-color: #E2EBFA;\n",
              "      box-shadow: 0px 1px 2px rgba(60, 64, 67, 0.3), 0px 1px 3px 1px rgba(60, 64, 67, 0.15);\n",
              "      fill: #174EA6;\n",
              "    }\n",
              "\n",
              "    [theme=dark] .colab-df-convert {\n",
              "      background-color: #3B4455;\n",
              "      fill: #D2E3FC;\n",
              "    }\n",
              "\n",
              "    [theme=dark] .colab-df-convert:hover {\n",
              "      background-color: #434B5C;\n",
              "      box-shadow: 0px 1px 3px 1px rgba(0, 0, 0, 0.15);\n",
              "      filter: drop-shadow(0px 1px 2px rgba(0, 0, 0, 0.3));\n",
              "      fill: #FFFFFF;\n",
              "    }\n",
              "  </style>\n",
              "\n",
              "      <script>\n",
              "        const buttonEl =\n",
              "          document.querySelector('#df-89b602e5-5a72-4d3e-8338-2b89ba3c25a8 button.colab-df-convert');\n",
              "        buttonEl.style.display =\n",
              "          google.colab.kernel.accessAllowed ? 'block' : 'none';\n",
              "\n",
              "        async function convertToInteractive(key) {\n",
              "          const element = document.querySelector('#df-89b602e5-5a72-4d3e-8338-2b89ba3c25a8');\n",
              "          const dataTable =\n",
              "            await google.colab.kernel.invokeFunction('convertToInteractive',\n",
              "                                                     [key], {});\n",
              "          if (!dataTable) return;\n",
              "\n",
              "          const docLinkHtml = 'Like what you see? Visit the ' +\n",
              "            '<a target=\"_blank\" href=https://colab.research.google.com/notebooks/data_table.ipynb>data table notebook</a>'\n",
              "            + ' to learn more about interactive tables.';\n",
              "          element.innerHTML = '';\n",
              "          dataTable['output_type'] = 'display_data';\n",
              "          await google.colab.output.renderOutput(dataTable, element);\n",
              "          const docLink = document.createElement('div');\n",
              "          docLink.innerHTML = docLinkHtml;\n",
              "          element.appendChild(docLink);\n",
              "        }\n",
              "      </script>\n",
              "    </div>\n",
              "  </div>\n",
              "  "
            ]
          },
          "metadata": {},
          "execution_count": 40
        }
      ]
    },
    {
      "cell_type": "code",
      "execution_count": 41,
      "metadata": {
        "pycharm": {
          "name": "#%%\n"
        },
        "trusted": true,
        "colab": {
          "base_uri": "https://localhost:8080/"
        },
        "id": "XKkB5XPRuC1n",
        "outputId": "9f5b5964-d313-46d2-af86-bf2365c19365"
      },
      "outputs": [
        {
          "output_type": "stream",
          "name": "stderr",
          "text": [
            "Some weights of the model checkpoint at dbmdz/bert-base-turkish-128k-uncased were not used when initializing BertForSequenceClassification: ['cls.predictions.transform.dense.bias', 'cls.predictions.transform.LayerNorm.weight', 'cls.predictions.transform.dense.weight', 'cls.predictions.bias', 'cls.seq_relationship.bias', 'cls.predictions.decoder.weight', 'cls.predictions.decoder.bias', 'cls.predictions.transform.LayerNorm.bias', 'cls.seq_relationship.weight']\n",
            "- This IS expected if you are initializing BertForSequenceClassification from the checkpoint of a model trained on another task or with another architecture (e.g. initializing a BertForSequenceClassification model from a BertForPreTraining model).\n",
            "- This IS NOT expected if you are initializing BertForSequenceClassification from the checkpoint of a model that you expect to be exactly identical (initializing a BertForSequenceClassification model from a BertForSequenceClassification model).\n",
            "Some weights of BertForSequenceClassification were not initialized from the model checkpoint at dbmdz/bert-base-turkish-128k-uncased and are newly initialized: ['classifier.bias', 'classifier.weight']\n",
            "You should probably TRAIN this model on a down-stream task to be able to use it for predictions and inference.\n"
          ]
        }
      ],
      "source": [
        "model = ClassificationModel('bert', 'dbmdz/bert-base-turkish-128k-uncased',\n",
        "                        num_labels=5,\n",
        "                        args={'reprocess_input_data': True,\n",
        "                        'overwrite_output_dir': True,\n",
        "                        'num_train_epochs': 3,\n",
        "                        \"output_dir\": \"bert_model\",\n",
        "                        \"warmup_steps\": 100,\n",
        "                        \"weight_decay\":0,\n",
        "                        \"load_best_model_at_end\": True,\n",
        "                        \"use_early_stopping\": True,\n",
        "                        \"early_stopping_patience\": 5,\n",
        "                        \"early_stopping_delta\": 0.001,\n",
        "                        \"max_length\": 80,\n",
        "                        \"tokenizer_name\": tokenizer,\n",
        "                        \"manual_seed\": 42},\n",
        "                        use_cuda=torch.cuda.is_available())"
      ]
    },
    {
      "cell_type": "code",
      "source": [
        "training_texts = df.text.values\n",
        "training_labels = df.target.values"
      ],
      "metadata": {
        "id": "YFBjhdWMzCdx"
      },
      "execution_count": 42,
      "outputs": []
    },
    {
      "cell_type": "code",
      "source": [
        "input_ids = []\n",
        "attention_masks = []\n",
        "max_len = 64\n",
        "\n",
        "\n",
        "for text in training_texts:\n",
        "    encoded_dict = tokenizer.encode_plus(\n",
        "                        str(text),                     \n",
        "                        add_special_tokens = True,\n",
        "                        max_length = max_len,      \n",
        "                        pad_to_max_length = True,\n",
        "                        return_attention_mask = True, \n",
        "                        return_tensors = 'pt',\n",
        "                   )\n",
        "    \n",
        "    input_ids.append(encoded_dict['input_ids'])\n",
        "    attention_masks.append(encoded_dict['attention_mask'])\n",
        "\n",
        "input_ids = torch.cat(input_ids, dim=0)\n",
        "attention_masks = torch.cat(attention_masks, dim=0)\n",
        "labels = torch.tensor(training_labels)\n",
        "\n",
        "print('Original: ', training_texts[0])\n",
        "print('Token IDs:', input_ids[0])"
      ],
      "metadata": {
        "colab": {
          "base_uri": "https://localhost:8080/"
        },
        "id": "pBB-YziKy96C",
        "outputId": "e86eea8a-1675-4c0b-d29c-e113cc5e78a3"
      },
      "execution_count": 43,
      "outputs": [
        {
          "output_type": "stream",
          "name": "stderr",
          "text": [
            "Truncation was not explicitly activated but `max_length` is provided a specific value, please use `truncation=True` to explicitly truncate examples to max length. Defaulting to 'longest_first' truncation strategy. If you encode pairs of sequences (GLUE-style) with the tokenizer you can select this strategy more precisely by providing a specific strategy to `truncation`.\n",
            "/usr/local/lib/python3.9/dist-packages/transformers/tokenization_utils_base.py:2346: FutureWarning: The `pad_to_max_length` argument is deprecated and will be removed in a future version, use `padding=True` or `padding='longest'` to pad to the longest sequence in the batch, or use `padding='max_length'` to pad to a max length. In this case, you can give a specific length with `max_length` (e.g. `max_length=45`) or leave max_length to None to pad to the maximal input size of the model (e.g. 512 for Bert).\n",
            "  warnings.warn(\n"
          ]
        },
        {
          "output_type": "stream",
          "name": "stdout",
          "text": [
            "Original:  çürük dişli\n",
            "Token IDs: tensor([    2, 18534,  2067,  5092,  1987,     3,     0,     0,     0,     0,\n",
            "            0,     0,     0,     0,     0,     0,     0,     0,     0,     0,\n",
            "            0,     0,     0,     0,     0,     0,     0,     0,     0,     0,\n",
            "            0,     0,     0,     0,     0,     0,     0,     0,     0,     0,\n",
            "            0,     0,     0,     0,     0,     0,     0,     0,     0,     0,\n",
            "            0,     0,     0,     0,     0,     0,     0,     0,     0,     0,\n",
            "            0,     0,     0,     0])\n"
          ]
        }
      ]
    },
    {
      "cell_type": "code",
      "source": [
        "train_dataset = TensorDataset(input_ids, attention_masks, labels)\n",
        "\n",
        "batch_size = 64\n",
        "\n",
        "train_dataloader = DataLoader(\n",
        "            train_dataset,  \n",
        "            sampler = RandomSampler(train_dataset), \n",
        "            batch_size = batch_size \n",
        "        )\n",
        "\n",
        "\n",
        "num_of_cat = len(df['target'].unique())\n",
        "\n",
        "model = BertForSequenceClassification.from_pretrained(\n",
        "    \"dbmdz/bert-base-turkish-128k-uncased\",\n",
        "    num_labels = num_of_cat, \n",
        "    output_attentions = False,\n",
        "    output_hidden_states = False,\n",
        ")\n",
        "model.cuda()\n",
        "\n",
        "\n",
        "epochs = 5 \n",
        "\n",
        "optimizer = AdamW(model.parameters(),\n",
        "                  lr = 5e-6,\n",
        "                  eps = 1e-8 \n",
        "                )\n",
        "\n",
        "total_steps = len(train_dataloader) * epochs\n",
        "scheduler = get_linear_schedule_with_warmup(optimizer, \n",
        "                                            num_warmup_steps = 0,\n",
        "                                            num_training_steps = total_steps)"
      ],
      "metadata": {
        "colab": {
          "base_uri": "https://localhost:8080/"
        },
        "id": "VfjLszzQzmtm",
        "outputId": "42e9389a-38a6-4aeb-8b90-1608f3e59e3b"
      },
      "execution_count": 44,
      "outputs": [
        {
          "output_type": "stream",
          "name": "stderr",
          "text": [
            "Some weights of the model checkpoint at dbmdz/bert-base-turkish-128k-uncased were not used when initializing BertForSequenceClassification: ['cls.predictions.transform.dense.bias', 'cls.predictions.transform.LayerNorm.weight', 'cls.predictions.transform.dense.weight', 'cls.predictions.bias', 'cls.seq_relationship.bias', 'cls.predictions.decoder.weight', 'cls.predictions.decoder.bias', 'cls.predictions.transform.LayerNorm.bias', 'cls.seq_relationship.weight']\n",
            "- This IS expected if you are initializing BertForSequenceClassification from the checkpoint of a model trained on another task or with another architecture (e.g. initializing a BertForSequenceClassification model from a BertForPreTraining model).\n",
            "- This IS NOT expected if you are initializing BertForSequenceClassification from the checkpoint of a model that you expect to be exactly identical (initializing a BertForSequenceClassification model from a BertForSequenceClassification model).\n",
            "Some weights of BertForSequenceClassification were not initialized from the model checkpoint at dbmdz/bert-base-turkish-128k-uncased and are newly initialized: ['classifier.bias', 'classifier.weight']\n",
            "You should probably TRAIN this model on a down-stream task to be able to use it for predictions and inference.\n",
            "/usr/local/lib/python3.9/dist-packages/transformers/optimization.py:391: FutureWarning: This implementation of AdamW is deprecated and will be removed in a future version. Use the PyTorch implementation torch.optim.AdamW instead, or set `no_deprecation_warning=True` to disable this warning\n",
            "  warnings.warn(\n"
          ]
        }
      ]
    },
    {
      "cell_type": "code",
      "source": [
        "def format_time(elapsed):\n",
        "    elapsed_rounded = int(round((elapsed)))\n",
        "    return str(datetime.timedelta(seconds=elapsed_rounded))"
      ],
      "metadata": {
        "id": "-iQp_WeN1WTn"
      },
      "execution_count": 45,
      "outputs": []
    },
    {
      "cell_type": "code",
      "source": [
        "seed_val = 20\n",
        "\n",
        "random.seed(seed_val)\n",
        "np.random.seed(seed_val)\n",
        "torch.manual_seed(seed_val)\n",
        "torch.cuda.manual_seed_all(seed_val)\n",
        "\n",
        "training_stats = []\n",
        "total_t0 = time.time()\n",
        "\n",
        "for epoch_i in range(0, epochs):\n",
        "    print('======== Epoch {:} / {:} ========'.format(epoch_i + 1, epochs))\n",
        "    t0 = time.time()\n",
        "    total_train_loss = 0\n",
        "    model.train()\n",
        "    \n",
        "    for step, batch in enumerate(train_dataloader):\n",
        "        if step % 10 == 0 and not step == 0:\n",
        "            elapsed = format_time(time.time() - t0)\n",
        "            print('Batch {:>5,}  of  {:>5,}.    Elapsed: {:}.'.format(step, len(train_dataloader), elapsed))\n",
        "\n",
        "        b_input_ids = batch[0].to(device)\n",
        "        b_input_mask = batch[1].to(device)\n",
        "        b_labels = batch[2].to(device)\n",
        "\n",
        "        model.zero_grad()        \n",
        "        output = model(b_input_ids, \n",
        "                             token_type_ids=None, \n",
        "                             attention_mask=b_input_mask, \n",
        "                             labels=b_labels)\n",
        "        loss = output['loss']\n",
        "        logits = output['logits']\n",
        "        total_train_loss += loss.item()\n",
        "        loss.backward()\n",
        "        torch.nn.utils.clip_grad_norm_(model.parameters(), 1.0)\n",
        "        optimizer.step()\n",
        "        scheduler.step()\n",
        "\n",
        "    avg_train_loss = total_train_loss / len(train_dataloader)            \n",
        "    training_time = format_time(time.time() - t0)\n",
        "\n",
        "    print(\"Average training loss: {0:.2f}\".format(avg_train_loss))\n",
        "    print(\"Training epoch took: {:}\".format(training_time))\n",
        "\n",
        "    training_stats.append(\n",
        "        {\n",
        "            'epoch': epoch_i + 1,\n",
        "            'Training Loss': avg_train_loss,\n",
        "            'Training Time': training_time,\n",
        "        }\n",
        "    )\n",
        "\n",
        "print(\"Training completed in {:} (h:mm:ss)\".format(format_time(time.time()-total_t0)))"
      ],
      "metadata": {
        "colab": {
          "base_uri": "https://localhost:8080/"
        },
        "id": "HM0TnpVo1U8T",
        "outputId": "c6940620-e1fa-45b7-c244-6e4478a451b6"
      },
      "execution_count": 46,
      "outputs": [
        {
          "output_type": "stream",
          "name": "stdout",
          "text": [
            "======== Epoch 1 / 5 ========\n",
            "Batch    10  of    198.    Elapsed: 0:00:02.\n",
            "Batch    20  of    198.    Elapsed: 0:00:04.\n",
            "Batch    30  of    198.    Elapsed: 0:00:05.\n",
            "Batch    40  of    198.    Elapsed: 0:00:07.\n",
            "Batch    50  of    198.    Elapsed: 0:00:09.\n",
            "Batch    60  of    198.    Elapsed: 0:00:11.\n",
            "Batch    70  of    198.    Elapsed: 0:00:12.\n",
            "Batch    80  of    198.    Elapsed: 0:00:14.\n",
            "Batch    90  of    198.    Elapsed: 0:00:16.\n",
            "Batch   100  of    198.    Elapsed: 0:00:18.\n",
            "Batch   110  of    198.    Elapsed: 0:00:19.\n",
            "Batch   120  of    198.    Elapsed: 0:00:21.\n",
            "Batch   130  of    198.    Elapsed: 0:00:23.\n",
            "Batch   140  of    198.    Elapsed: 0:00:25.\n",
            "Batch   150  of    198.    Elapsed: 0:00:26.\n",
            "Batch   160  of    198.    Elapsed: 0:00:28.\n",
            "Batch   170  of    198.    Elapsed: 0:00:30.\n",
            "Batch   180  of    198.    Elapsed: 0:00:31.\n",
            "Batch   190  of    198.    Elapsed: 0:00:33.\n",
            "Average training loss: 1.28\n",
            "Training epoch took: 0:00:34\n",
            "======== Epoch 2 / 5 ========\n",
            "Batch    10  of    198.    Elapsed: 0:00:02.\n",
            "Batch    20  of    198.    Elapsed: 0:00:03.\n",
            "Batch    30  of    198.    Elapsed: 0:00:05.\n",
            "Batch    40  of    198.    Elapsed: 0:00:07.\n",
            "Batch    50  of    198.    Elapsed: 0:00:09.\n",
            "Batch    60  of    198.    Elapsed: 0:00:10.\n",
            "Batch    70  of    198.    Elapsed: 0:00:12.\n",
            "Batch    80  of    198.    Elapsed: 0:00:14.\n",
            "Batch    90  of    198.    Elapsed: 0:00:16.\n",
            "Batch   100  of    198.    Elapsed: 0:00:17.\n",
            "Batch   110  of    198.    Elapsed: 0:00:19.\n",
            "Batch   120  of    198.    Elapsed: 0:00:21.\n",
            "Batch   130  of    198.    Elapsed: 0:00:23.\n",
            "Batch   140  of    198.    Elapsed: 0:00:24.\n",
            "Batch   150  of    198.    Elapsed: 0:00:26.\n",
            "Batch   160  of    198.    Elapsed: 0:00:28.\n",
            "Batch   170  of    198.    Elapsed: 0:00:30.\n",
            "Batch   180  of    198.    Elapsed: 0:00:31.\n",
            "Batch   190  of    198.    Elapsed: 0:00:33.\n",
            "Average training loss: 0.44\n",
            "Training epoch took: 0:00:34\n",
            "======== Epoch 3 / 5 ========\n",
            "Batch    10  of    198.    Elapsed: 0:00:02.\n",
            "Batch    20  of    198.    Elapsed: 0:00:03.\n",
            "Batch    30  of    198.    Elapsed: 0:00:05.\n",
            "Batch    40  of    198.    Elapsed: 0:00:07.\n",
            "Batch    50  of    198.    Elapsed: 0:00:09.\n",
            "Batch    60  of    198.    Elapsed: 0:00:10.\n",
            "Batch    70  of    198.    Elapsed: 0:00:12.\n",
            "Batch    80  of    198.    Elapsed: 0:00:14.\n",
            "Batch    90  of    198.    Elapsed: 0:00:16.\n",
            "Batch   100  of    198.    Elapsed: 0:00:17.\n",
            "Batch   110  of    198.    Elapsed: 0:00:19.\n",
            "Batch   120  of    198.    Elapsed: 0:00:21.\n",
            "Batch   130  of    198.    Elapsed: 0:00:23.\n",
            "Batch   140  of    198.    Elapsed: 0:00:24.\n",
            "Batch   150  of    198.    Elapsed: 0:00:26.\n",
            "Batch   160  of    198.    Elapsed: 0:00:28.\n",
            "Batch   170  of    198.    Elapsed: 0:00:30.\n",
            "Batch   180  of    198.    Elapsed: 0:00:31.\n",
            "Batch   190  of    198.    Elapsed: 0:00:33.\n",
            "Average training loss: 0.28\n",
            "Training epoch took: 0:00:34\n",
            "======== Epoch 4 / 5 ========\n",
            "Batch    10  of    198.    Elapsed: 0:00:02.\n",
            "Batch    20  of    198.    Elapsed: 0:00:03.\n",
            "Batch    30  of    198.    Elapsed: 0:00:05.\n",
            "Batch    40  of    198.    Elapsed: 0:00:07.\n",
            "Batch    50  of    198.    Elapsed: 0:00:09.\n",
            "Batch    60  of    198.    Elapsed: 0:00:10.\n",
            "Batch    70  of    198.    Elapsed: 0:00:12.\n",
            "Batch    80  of    198.    Elapsed: 0:00:14.\n",
            "Batch    90  of    198.    Elapsed: 0:00:16.\n",
            "Batch   100  of    198.    Elapsed: 0:00:17.\n",
            "Batch   110  of    198.    Elapsed: 0:00:19.\n",
            "Batch   120  of    198.    Elapsed: 0:00:21.\n",
            "Batch   130  of    198.    Elapsed: 0:00:23.\n",
            "Batch   140  of    198.    Elapsed: 0:00:24.\n",
            "Batch   150  of    198.    Elapsed: 0:00:26.\n",
            "Batch   160  of    198.    Elapsed: 0:00:28.\n",
            "Batch   170  of    198.    Elapsed: 0:00:30.\n",
            "Batch   180  of    198.    Elapsed: 0:00:31.\n",
            "Batch   190  of    198.    Elapsed: 0:00:33.\n",
            "Average training loss: 0.24\n",
            "Training epoch took: 0:00:34\n",
            "======== Epoch 5 / 5 ========\n",
            "Batch    10  of    198.    Elapsed: 0:00:02.\n",
            "Batch    20  of    198.    Elapsed: 0:00:03.\n",
            "Batch    30  of    198.    Elapsed: 0:00:05.\n",
            "Batch    40  of    198.    Elapsed: 0:00:07.\n",
            "Batch    50  of    198.    Elapsed: 0:00:09.\n",
            "Batch    60  of    198.    Elapsed: 0:00:10.\n",
            "Batch    70  of    198.    Elapsed: 0:00:12.\n",
            "Batch    80  of    198.    Elapsed: 0:00:14.\n",
            "Batch    90  of    198.    Elapsed: 0:00:16.\n",
            "Batch   100  of    198.    Elapsed: 0:00:17.\n",
            "Batch   110  of    198.    Elapsed: 0:00:19.\n",
            "Batch   120  of    198.    Elapsed: 0:00:21.\n",
            "Batch   130  of    198.    Elapsed: 0:00:23.\n",
            "Batch   140  of    198.    Elapsed: 0:00:24.\n",
            "Batch   150  of    198.    Elapsed: 0:00:26.\n",
            "Batch   160  of    198.    Elapsed: 0:00:28.\n",
            "Batch   170  of    198.    Elapsed: 0:00:30.\n",
            "Batch   180  of    198.    Elapsed: 0:00:31.\n",
            "Batch   190  of    198.    Elapsed: 0:00:33.\n",
            "Average training loss: 0.23\n",
            "Training epoch took: 0:00:34\n",
            "Training completed in 0:02:52 (h:mm:ss)\n"
          ]
        }
      ]
    },
    {
      "cell_type": "code",
      "source": [
        "df_stats = pd.DataFrame(data=training_stats)\n",
        "plt.plot(df_stats['Training Loss'], label=\"Training\")\n",
        "plt.title(\"Training Loss\")\n",
        "plt.xlabel(\"Epoch\")\n",
        "plt.ylabel(\"Loss\")\n",
        "plt.xticks([0, 1, 2, 3, 4, 5, 6, 7, 8])\n",
        "plt.show()"
      ],
      "metadata": {
        "colab": {
          "base_uri": "https://localhost:8080/",
          "height": 472
        },
        "id": "4SpRCSxO2L0-",
        "outputId": "30346b54-5e8a-4c7b-c172-8e06ef69ea9a"
      },
      "execution_count": 52,
      "outputs": [
        {
          "output_type": "display_data",
          "data": {
            "text/plain": [
              "<Figure size 640x480 with 1 Axes>"
            ],
            "image/png": "[encoded data removed]"
          },
          "metadata": {}
        }
      ]
    },
    {
      "cell_type": "code",
      "source": [
        "test_texts = test.text.values\n",
        "test_labels = test.target.values\n",
        "\n",
        "input_ids = []\n",
        "attention_masks = []\n",
        "\n",
        "for text in test_texts:\n",
        "    encoded_dict = tokenizer.encode_plus(\n",
        "                        text,                     \n",
        "                        add_special_tokens = True, \n",
        "                        max_length = max_len,          \n",
        "                        pad_to_max_length = True,\n",
        "                        return_attention_mask = True,  \n",
        "                        return_tensors = 'pt',   \n",
        "                   )\n",
        "    \n",
        "    input_ids.append(encoded_dict['input_ids'])\n",
        "    attention_masks.append(encoded_dict['attention_mask'])\n",
        "\n",
        "input_ids = torch.cat(input_ids, dim=0)\n",
        "attention_masks = torch.cat(attention_masks, dim=0)\n",
        "labels = torch.tensor(test_labels)\n",
        "\n",
        "\n",
        "prediction_data = TensorDataset(input_ids, attention_masks, labels)\n",
        "prediction_sampler = SequentialSampler(prediction_data)\n",
        "prediction_dataloader = DataLoader(prediction_data, sampler=prediction_sampler, batch_size=batch_size)"
      ],
      "metadata": {
        "colab": {
          "base_uri": "https://localhost:8080/"
        },
        "id": "YvFNDnN_2TMY",
        "outputId": "ba3d5260-ff7b-4341-db1d-6f3bb9d7580c"
      },
      "execution_count": 53,
      "outputs": [
        {
          "output_type": "stream",
          "name": "stderr",
          "text": [
            "/usr/local/lib/python3.9/dist-packages/transformers/tokenization_utils_base.py:2346: FutureWarning: The `pad_to_max_length` argument is deprecated and will be removed in a future version, use `padding=True` or `padding='longest'` to pad to the longest sequence in the batch, or use `padding='max_length'` to pad to a max length. In this case, you can give a specific length with `max_length` (e.g. `max_length=45`) or leave max_length to None to pad to the maximal input size of the model (e.g. 512 for Bert).\n",
            "  warnings.warn(\n"
          ]
        }
      ]
    },
    {
      "cell_type": "code",
      "source": [
        "print('Prediction started on test data')\n",
        "model.eval()\n",
        "predictions , true_labels = [], []\n",
        "\n",
        "for batch in prediction_dataloader:\n",
        "  batch = tuple(t.to(device) for t in batch)\n",
        "  b_input_ids, b_input_mask, b_labels = batch\n",
        "\n",
        "  with torch.no_grad():\n",
        "      outputs = model(b_input_ids, token_type_ids=None, \n",
        "                      attention_mask=b_input_mask)\n",
        "\n",
        "  logits = outputs[0]\n",
        "  logits = logits.detach().cpu().numpy()\n",
        "  label_ids = b_labels.to('cpu').numpy()\n",
        "  \n",
        "  predictions.append(logits)\n",
        "  true_labels.append(label_ids)\n",
        "\n",
        "print('Prediction completed')"
      ],
      "metadata": {
        "colab": {
          "base_uri": "https://localhost:8080/"
        },
        "id": "u8Ao4UC52TOw",
        "outputId": "098a473a-b3f4-402a-d866-900f221df164"
      },
      "execution_count": 54,
      "outputs": [
        {
          "output_type": "stream",
          "name": "stdout",
          "text": [
            "Prediction started on test data\n",
            "Prediction completed\n"
          ]
        }
      ]
    },
    {
      "cell_type": "code",
      "source": [
        "prediction_set = []\n",
        "\n",
        "for i in range(len(true_labels)):\n",
        "  pred_labels_i = np.argmax(predictions[i], axis=1).flatten()\n",
        "  prediction_set.append(pred_labels_i)\n",
        "\n",
        "prediction_scores = [item for sublist in prediction_set for item in sublist]"
      ],
      "metadata": {
        "id": "de2xfTX_2TRM"
      },
      "execution_count": 55,
      "outputs": []
    },
    {
      "cell_type": "code",
      "source": [
        "f_score = f1_score(test_labels, prediction_scores, average='macro')\n",
        "precision = precision_score(test_labels, prediction_scores, average='macro')\n",
        "recall = recall_score(test_labels, prediction_scores, average='macro')\n",
        "accr = accuracy_score(test_labels, prediction_scores)"
      ],
      "metadata": {
        "id": "nVBvgS1U2TZM"
      },
      "execution_count": 58,
      "outputs": []
    },
    {
      "cell_type": "code",
      "source": [
        "from sklearn.metrics import confusion_matrix, ConfusionMatrixDisplay\n",
        "\n",
        "print(\"F-Score Macro: \", f_score)\n",
        "print(\"Recall Macro: \", recall)\n",
        "print(\"Precision Macro: \", precision)\n",
        "print(\"Accuracy: \", accr)\n",
        "class_names =['INSULT','OTHER','PROFANITY','RACIST','SEXIST']\n",
        "cm = confusion_matrix(test_labels, prediction_scores, )\n",
        "disp = ConfusionMatrixDisplay(confusion_matrix=cm,\n",
        "                              display_labels=class_names)"
      ],
      "metadata": {
        "colab": {
          "base_uri": "https://localhost:8080/"
        },
        "id": "ksT32GUh2Tbl",
        "outputId": "cfb4974d-7b02-4a8d-84a4-65d8f435c2e2"
      },
      "execution_count": 63,
      "outputs": [
        {
          "output_type": "stream",
          "name": "stdout",
          "text": [
            "F-Score Macro:  0.9461078257015206\n",
            "Recall Macro:  0.9488067854267792\n",
            "Precision Macro:  0.9442745858758668\n",
            "Accuracy:  0.9467147435897436\n"
          ]
        }
      ]
    },
    {
      "cell_type": "code",
      "source": [
        "disp.plot();"
      ],
      "metadata": {
        "colab": {
          "base_uri": "https://localhost:8080/",
          "height": 449
        },
        "id": "YMhy3PXn4hMm",
        "outputId": "53016a61-1574-4025-eb8e-c77f2e1c6c93"
      },
      "execution_count": 64,
      "outputs": [
        {
          "output_type": "display_data",
          "data": {
            "text/plain": [
              "<Figure size 640x480 with 2 Axes>"
            ],
            "image/png": "[encoded data removed]"
          },
          "metadata": {}
        }
      ]
    },
    {
      "cell_type": "code",
      "source": [
        "report = pd.DataFrame(classification_report(test_labels, prediction_scores, output_dict=True))"
      ],
      "metadata": {
        "id": "dndo7QMD2Td9"
      },
      "execution_count": 61,
      "outputs": []
    },
    {
      "cell_type": "code",
      "source": [
        "report = report.rename(columns={\n",
        "                                '0':'INSULT',\n",
        "                                '1':'OTHER',\n",
        "                                '2':'PROFANITY',\n",
        "                                '3':'RACIST',\n",
        "                                '4':'SEXIST'})\n",
        "report"
      ],
      "metadata": {
        "colab": {
          "base_uri": "https://localhost:8080/",
          "height": 175
        },
        "id": "43LMvHsE2TgD",
        "outputId": "0e56d372-2706-47be-9cd4-755557b7a165"
      },
      "execution_count": 62,
      "outputs": [
        {
          "output_type": "execute_result",
          "data": {
            "text/plain": [
              "               INSULT       OTHER   PROFANITY      RACIST      SEXIST  \\\n",
              "precision    0.905930    0.975255    0.969499    0.913242    0.957447   \n",
              "recall       0.924843    0.941011    0.930962    0.985222    0.961995   \n",
              "f1-score     0.915289    0.957827    0.949840    0.947867    0.959716   \n",
              "support    479.000000  712.000000  478.000000  406.000000  421.000000   \n",
              "\n",
              "           accuracy    macro avg  weighted avg  \n",
              "precision  0.946715     0.944275      0.947758  \n",
              "recall     0.946715     0.948807      0.946715  \n",
              "f1-score   0.946715     0.946108      0.946833  \n",
              "support    0.946715  2496.000000   2496.000000  "
            ],
            "text/html": [
              "\n",
              "  <div id=\"df-5737ed72-6a14-4184-85fc-898669e3c394\">\n",
              "    <div class=\"colab-df-container\">\n",
              "      <div>\n",
              "<style scoped>\n",
              "    .dataframe tbody tr th:only-of-type {\n",
              "        vertical-align: middle;\n",
              "    }\n",
              "\n",
              "    .dataframe tbody tr th {\n",
              "        vertical-align: top;\n",
              "    }\n",
              "\n",
              "    .dataframe thead th {\n",
              "        text-align: right;\n",
              "    }\n",
              "</style>\n",
              "<table border=\"1\" class=\"dataframe\">\n",
              "  <thead>\n",
              "    <tr style=\"text-align: right;\">\n",
              "      <th></th>\n",
              "      <th>INSULT</th>\n",
              "      <th>OTHER</th>\n",
              "      <th>PROFANITY</th>\n",
              "      <th>RACIST</th>\n",
              "      <th>SEXIST</th>\n",
              "      <th>accuracy</th>\n",
              "      <th>macro avg</th>\n",
              "      <th>weighted avg</th>\n",
              "    </tr>\n",
              "  </thead>\n",
              "  <tbody>\n",
              "    <tr>\n",
              "      <th>precision</th>\n",
              "      <td>0.905930</td>\n",
              "      <td>0.975255</td>\n",
              "      <td>0.969499</td>\n",
              "      <td>0.913242</td>\n",
              "      <td>0.957447</td>\n",
              "      <td>0.946715</td>\n",
              "      <td>0.944275</td>\n",
              "      <td>0.947758</td>\n",
              "    </tr>\n",
              "    <tr>\n",
              "      <th>recall</th>\n",
              "      <td>0.924843</td>\n",
              "      <td>0.941011</td>\n",
              "      <td>0.930962</td>\n",
              "      <td>0.985222</td>\n",
              "      <td>0.961995</td>\n",
              "      <td>0.946715</td>\n",
              "      <td>0.948807</td>\n",
              "      <td>0.946715</td>\n",
              "    </tr>\n",
              "    <tr>\n",
              "      <th>f1-score</th>\n",
              "      <td>0.915289</td>\n",
              "      <td>0.957827</td>\n",
              "      <td>0.949840</td>\n",
              "      <td>0.947867</td>\n",
              "      <td>0.959716</td>\n",
              "      <td>0.946715</td>\n",
              "      <td>0.946108</td>\n",
              "      <td>0.946833</td>\n",
              "    </tr>\n",
              "    <tr>\n",
              "      <th>support</th>\n",
              "      <td>479.000000</td>\n",
              "      <td>712.000000</td>\n",
              "      <td>478.000000</td>\n",
              "      <td>406.000000</td>\n",
              "      <td>421.000000</td>\n",
              "      <td>0.946715</td>\n",
              "      <td>2496.000000</td>\n",
              "      <td>2496.000000</td>\n",
              "    </tr>\n",
              "  </tbody>\n",
              "</table>\n",
              "</div>\n",
              "      <button class=\"colab-df-convert\" onclick=\"convertToInteractive('df-5737ed72-6a14-4184-85fc-898669e3c394')\"\n",
              "              title=\"Convert this dataframe to an interactive table.\"\n",
              "              style=\"display:none;\">\n",
              "        \n",
              "  <svg xmlns=\"http://www.w3.org/2000/svg\" height=\"24px\"viewBox=\"0 0 24 24\"\n",
              "       width=\"24px\">\n",
              "    <path d=\"M0 0h24v24H0V0z\" fill=\"none\"/>\n",
              "    <path d=\"M18.56 5.44l.94 2.06.94-2.06 2.06-.94-2.06-.94-.94-2.06-.94 2.06-2.06.94zm-11 1L8.5 8.5l.94-2.06 2.06-.94-2.06-.94L8.5 2.5l-.94 2.06-2.06.94zm10 10l.94 2.06.94-2.06 2.06-.94-2.06-.94-.94-2.06-.94 2.06-2.06.94z\"/><path d=\"M17.41 7.96l-1.37-1.37c-.4-.4-.92-.59-1.43-.59-.52 0-1.04.2-1.43.59L10.3 9.45l-7.72 7.72c-.78.78-.78 2.05 0 2.83L4 21.41c.39.39.9.59 1.41.59.51 0 1.02-.2 1.41-.59l7.78-7.78 2.81-2.81c.8-.78.8-2.07 0-2.86zM5.41 20L4 18.59l7.72-7.72 1.47 1.35L5.41 20z\"/>\n",
              "  </svg>\n",
              "      </button>\n",
              "      \n",
              "  <style>\n",
              "    .colab-df-container {\n",
              "      display:flex;\n",
              "      flex-wrap:wrap;\n",
              "      gap: 12px;\n",
              "    }\n",
              "\n",
              "    .colab-df-convert {\n",
              "      background-color: #E8F0FE;\n",
              "      border: none;\n",
              "      border-radius: 50%;\n",
              "      cursor: pointer;\n",
              "      display: none;\n",
              "      fill: #1967D2;\n",
              "      height: 32px;\n",
              "      padding: 0 0 0 0;\n",
              "      width: 32px;\n",
              "    }\n",
              "\n",
              "    .colab-df-convert:hover {\n",
              "      background-color: #E2EBFA;\n",
              "      box-shadow: 0px 1px 2px rgba(60, 64, 67, 0.3), 0px 1px 3px 1px rgba(60, 64, 67, 0.15);\n",
              "      fill: #174EA6;\n",
              "    }\n",
              "\n",
              "    [theme=dark] .colab-df-convert {\n",
              "      background-color: #3B4455;\n",
              "      fill: #D2E3FC;\n",
              "    }\n",
              "\n",
              "    [theme=dark] .colab-df-convert:hover {\n",
              "      background-color: #434B5C;\n",
              "      box-shadow: 0px 1px 3px 1px rgba(0, 0, 0, 0.15);\n",
              "      filter: drop-shadow(0px 1px 2px rgba(0, 0, 0, 0.3));\n",
              "      fill: #FFFFFF;\n",
              "    }\n",
              "  </style>\n",
              "\n",
              "      <script>\n",
              "        const buttonEl =\n",
              "          document.querySelector('#df-5737ed72-6a14-4184-85fc-898669e3c394 button.colab-df-convert');\n",
              "        buttonEl.style.display =\n",
              "          google.colab.kernel.accessAllowed ? 'block' : 'none';\n",
              "\n",
              "        async function convertToInteractive(key) {\n",
              "          const element = document.querySelector('#df-5737ed72-6a14-4184-85fc-898669e3c394');\n",
              "          const dataTable =\n",
              "            await google.colab.kernel.invokeFunction('convertToInteractive',\n",
              "                                                     [key], {});\n",
              "          if (!dataTable) return;\n",
              "\n",
              "          const docLinkHtml = 'Like what you see? Visit the ' +\n",
              "            '<a target=\"_blank\" href=https://colab.research.google.com/notebooks/data_table.ipynb>data table notebook</a>'\n",
              "            + ' to learn more about interactive tables.';\n",
              "          element.innerHTML = '';\n",
              "          dataTable['output_type'] = 'display_data';\n",
              "          await google.colab.output.renderOutput(dataTable, element);\n",
              "          const docLink = document.createElement('div');\n",
              "          docLink.innerHTML = docLinkHtml;\n",
              "          element.appendChild(docLink);\n",
              "        }\n",
              "      </script>\n",
              "    </div>\n",
              "  </div>\n",
              "  "
            ]
          },
          "metadata": {},
          "execution_count": 62
        }
      ]
    },
    {
      "cell_type": "code",
      "execution_count": null,
      "metadata": {
        "pycharm": {
          "name": "#%%\n"
        },
        "id": "vBuNRGnYuC1p"
      },
      "outputs": [],
      "source": []
    },
    {
      "cell_type": "code",
      "source": [],
      "metadata": {
        "id": "ckElQhdf3aXp"
      },
      "execution_count": null,
      "outputs": []
    }
  ],
  "metadata": {
    "kernelspec": {
      "display_name": "Python 3",
      "language": "python",
      "name": "python3"
    },
    "language_info": {
      "codemirror_mode": {
        "name": "ipython",
        "version": 3
      },
      "file_extension": ".py",
      "mimetype": "text/x-python",
      "name": "python",
      "nbconvert_exporter": "python",
      "pygments_lexer": "ipython3",
      "version": "3.10.6"
    },
    "colab": {
      "provenance": [],
      "machine_shape": "hm"
    },
    "accelerator": "GPU",
    "gpuClass": "premium"
  },
  "nbformat": 4,
  "nbformat_minor": 0
}