{
 "cells": [
  {
   "cell_type": "code",
   "execution_count": 1,
   "metadata": {
    "trusted": true,
    "pycharm": {
     "name": "#%%\n"
    }
   },
   "outputs": [
    {
     "ename": "",
     "evalue": "",
     "output_type": "error",
     "traceback": [
      "\u001B[1;31mCanceled future for execute_request message before replies were done"
     ]
    },
    {
     "ename": "",
     "evalue": "",
     "output_type": "error",
     "traceback": [
      "\u001B[1;31mThe Kernel crashed while executing code in the the current cell or a previous cell. Please review the code in the cell(s) to identify a possible cause of the failure. Click <a href='https://aka.ms/vscodeJupyterKernelCrash'>here</a> for more info. View Jupyter <a href='command:jupyter.viewOutput'>log</a> for further details."
     ]
    }
   ],
   "source": [
    "import pandas as pd  \n",
    "import torch\n",
    "from transformers import logging, BertTokenizer\n",
    "from simpletransformers.classification import ClassificationModel\n",
    "import os\n",
    "import time"
   ]
  },
  {
   "cell_type": "code",
   "execution_count": null,
   "metadata": {
    "trusted": true,
    "pycharm": {
     "name": "#%%\n"
    }
   },
   "outputs": [],
   "source": [
    "logging.set_verbosity_error()\n",
    "# set GPU\n",
    "torch.device(\"cuda\")\n",
    "use_cuda = torch.cuda.is_available()\n",
    "os.environ[\"TOKENIZERS_PARALLELISM\"] = \"false\"\n",
    "os.environ[\"CUDA_LAUNCH_BLOCKING\"] = \"1\""
   ]
  },
  {
   "cell_type": "code",
   "execution_count": null,
   "metadata": {
    "trusted": true,
    "pycharm": {
     "name": "#%%\n"
    }
   },
   "outputs": [],
   "source": [
    "tokenizer = BertTokenizer.from_pretrained('dbmdz/bert-base-turkish-128k-uncased', do_lower_case=True, use_cuda=torch.cuda.is_available())"
   ]
  },
  {
   "cell_type": "code",
   "execution_count": null,
   "metadata": {
    "trusted": true,
    "pycharm": {
     "name": "#%%\n"
    }
   },
   "outputs": [],
   "source": [
    "df = pd.read_csv('/kaggle/input/teknofest2023/obs_clean_data.csv')\n",
    "df = pd.DataFrame(df, columns=['text', 'target'])"
   ]
  },
  {
   "cell_type": "code",
   "execution_count": null,
   "metadata": {
    "collapsed": false,
    "pycharm": {
     "name": "#%%\n"
    }
   },
   "outputs": [],
   "source": [
    "le = LabelEncoder()\n",
    "df[\"target\"] = le.fit_transform(df.target)"
   ]
  },
  {
   "cell_type": "code",
   "execution_count": null,
   "metadata": {
    "collapsed": false,
    "pycharm": {
     "name": "#%%\n"
    }
   },
   "outputs": [],
   "source": [
    "print(df['target'].unique())\n",
    "print(df.head())"
   ]
  },
  {
   "cell_type": "code",
   "execution_count": null,
   "metadata": {
    "trusted": true,
    "pycharm": {
     "name": "#%%\n"
    }
   },
   "outputs": [],
   "source": [
    "model = ClassificationModel('bert', 'dbmdz/bert-base-turkish-128k-uncased',\n",
    "                        num_labels=5,\n",
    "                        args={'reprocess_input_data': True,\n",
    "                        'overwrite_output_dir': True,\n",
    "                        'num_train_epochs': 3,\n",
    "                        \"output_dir\": \"bert_model\",\n",
    "                        \"warmup_steps\": 100,\n",
    "                        \"weight_decay\":0,\n",
    "                        \"load_best_model_at_end\": True,\n",
    "                        \"use_early_stopping\": True,\n",
    "                        \"early_stopping_patience\": 5,\n",
    "                        \"early_stopping_delta\": 0.001,\n",
    "                        \"max_length\": 80,\n",
    "                        \"tokenizer_name\": tokenizer,\n",
    "                        \"manual_seed\": 42},\n",
    "                        use_cuda=torch.cuda.is_available())"
   ]
  },
  {
   "cell_type": "code",
   "execution_count": null,
   "metadata": {
    "trusted": true,
    "pycharm": {
     "name": "#%%\n"
    }
   },
   "outputs": [],
   "source": [
    "kf = StratifiedKFold(n_splits=5, shuffle=True, random_state=42)\n",
    "#kf = KFold(n_splits=2)\n",
    "results = []\n",
    "df[\"target\"] = df[\"target\"].astype(int)\n",
    "model_outputs = None\n",
    "val_df = None\n",
    "for train_index, val_index in kf.split(df['text'], df['target']):\n",
    "    try:\n",
    "        # splitting Dataframe (dataset not included)\n",
    "        train_df = df.iloc[train_index]\n",
    "        val_df = df.iloc[val_index]\n",
    "        # train and validate the model\n",
    "        print(val_df.head())\n",
    "        model.train_model(train_df)\n",
    "        time.sleep(5)\n",
    "\n",
    "        result, model_outputs, wrong_predictions = model.eval_model(val_df, acc=accuracy_score)\n",
    "        print(f'Acc : {result[\"acc\"]}')\n",
    "        # append model score\n",
    "        results.append(result[\"acc\"])\n",
    "    except Exception as ex:\n",
    "        print('hata: ', ex)\n"
   ]
  },
  {
   "cell_type": "code",
   "execution_count": null,
   "metadata": {
    "trusted": true,
    "pycharm": {
     "name": "#%%\n"
    }
   },
   "outputs": [],
   "source": [
    "print(\"results\", results)\n",
    "print(f\"Mean-Precision: {sum(results) / len(results)}\")"
   ]
  },
  {
   "cell_type": "code",
   "execution_count": null,
   "metadata": {
    "trusted": true,
    "pycharm": {
     "name": "#%%\n"
    }
   },
   "outputs": [],
   "source": [
    "predictions = model_outputs.argmax(axis=1)\n",
    "actuals = val_df.label.values"
   ]
  },
  {
   "cell_type": "code",
   "execution_count": null,
   "metadata": {
    "trusted": true,
    "pycharm": {
     "name": "#%%\n"
    }
   },
   "outputs": [],
   "source": [
    "print(classification_report(actuals, predictions, digits=3))\n",
    "print(balanced_accuracy_score(actuals, predictions))\n",
    "cm = confusion_matrix(actuals, predictions, labels=[0, 1, 2, 3, 4])\n",
    "print(cm)\n",
    "tn, fp, fn, tp = cm\n",
    "print((tn, fp, fn, tp))"
   ]
  },
  {
   "cell_type": "code",
   "execution_count": null,
   "metadata": {
    "trusted": true,
    "pycharm": {
     "name": "#%%\n"
    }
   },
   "outputs": [],
   "source": [
    "disp = ConfusionMatrixDisplay(confusion_matrix=cm,\n",
    "                              display_labels=[0, 1, 2, 3, 4])\n",
    "disp.plot()"
   ]
  },
  {
   "cell_type": "code",
   "execution_count": null,
   "metadata": {
    "collapsed": false,
    "pycharm": {
     "name": "#%%\n"
    }
   },
   "outputs": [],
   "source": [
    "\"\"\"\n",
    "INSULT    --> 0\n",
    "OTHER     --> 1\n",
    "PROFANITY --> 2\n",
    "RACIST    --> 3\n",
    "SEXIST    --> 4\n",
    "\"\"\""
   ]
  }
 ],
 "metadata": {
  "kernelspec": {
   "display_name": "Python 3",
   "language": "python",
   "name": "python3"
  },
  "language_info": {
   "codemirror_mode": {
    "name": "ipython",
    "version": 3
   },
   "file_extension": ".py",
   "mimetype": "text/x-python",
   "name": "python",
   "nbconvert_exporter": "python",
   "pygments_lexer": "ipython3",
   "version": "3.10.6"
  }
 },
 "nbformat": 4,
 "nbformat_minor": 4
}