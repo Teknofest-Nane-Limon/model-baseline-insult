{
 "cells": [
  {
   "cell_type": "code",
   "execution_count": 105,
   "metadata": {},
   "outputs": [],
   "source": [
    "#from ydata_profiling import ProfileReport\n",
    "import pandas as pd\n",
    "#from cleaner import data_cleaning\n",
    "import requests\n",
    "import json"
   ]
  },
  {
   "cell_type": "code",
   "execution_count": 106,
   "outputs": [],
   "source": [
    "df = pd.read_csv('../data/teknofest_train_final.csv', sep='|')"
   ],
   "metadata": {
    "collapsed": false
   }
  },
  {
   "cell_type": "code",
   "execution_count": 107,
   "outputs": [],
   "source": [
    "preprocess_url = \"https://cryptic-oasis-68424.herokuapp.com/bulk_preprocess?turkish_char=false\"\n",
    "texts = df.text.values.tolist()\n",
    "preprocess_response = requests.post(preprocess_url, json={\"texts\": texts})\n",
    "processed_text = preprocess_response.json()['result']"
   ],
   "metadata": {
    "collapsed": false
   }
  },
  {
   "cell_type": "code",
   "execution_count": 108,
   "outputs": [],
   "source": [
    "df['text'] = processed_text"
   ],
   "metadata": {
    "collapsed": false
   }
  },
  {
   "cell_type": "code",
   "execution_count": 109,
   "outputs": [
    {
     "data": {
      "text/plain": "                                     id  \\\n0  81c11060-a240-4d54-841b-9e2916039e85   \n1  be80ebbf-b322-4c3b-afa1-94932ea80731   \n2  f99e2513-83ed-4076-ac72-b9e2cff3f049   \n3  83ed2b2e-b815-4f36-9fc4-80a9050cf2d0   \n4  d93e05f7-bfdd-4cdb-99d8-3048761b30ff   \n\n                                                text  is_offensive     target  \n0                                        curuk disli             1     INSULT  \n1  bu adamin islama ve muslumanlara verdigi zarar...             1     RACIST  \n2                               erkekler zora gelmez             1     SEXIST  \n3  utanmazin gotune kazik sokmuslar bu tikirti ne...             1  PROFANITY  \n4       otomasyon sistemlerine dogrudan baglanabilir             0      OTHER  ",
      "text/html": "<div>\n<style scoped>\n    .dataframe tbody tr th:only-of-type {\n        vertical-align: middle;\n    }\n\n    .dataframe tbody tr th {\n        vertical-align: top;\n    }\n\n    .dataframe thead th {\n        text-align: right;\n    }\n</style>\n<table border=\"1\" class=\"dataframe\">\n  <thead>\n    <tr style=\"text-align: right;\">\n      <th></th>\n      <th>id</th>\n      <th>text</th>\n      <th>is_offensive</th>\n      <th>target</th>\n    </tr>\n  </thead>\n  <tbody>\n    <tr>\n      <th>0</th>\n      <td>81c11060-a240-4d54-841b-9e2916039e85</td>\n      <td>curuk disli</td>\n      <td>1</td>\n      <td>INSULT</td>\n    </tr>\n    <tr>\n      <th>1</th>\n      <td>be80ebbf-b322-4c3b-afa1-94932ea80731</td>\n      <td>bu adamin islama ve muslumanlara verdigi zarar...</td>\n      <td>1</td>\n      <td>RACIST</td>\n    </tr>\n    <tr>\n      <th>2</th>\n      <td>f99e2513-83ed-4076-ac72-b9e2cff3f049</td>\n      <td>erkekler zora gelmez</td>\n      <td>1</td>\n      <td>SEXIST</td>\n    </tr>\n    <tr>\n      <th>3</th>\n      <td>83ed2b2e-b815-4f36-9fc4-80a9050cf2d0</td>\n      <td>utanmazin gotune kazik sokmuslar bu tikirti ne...</td>\n      <td>1</td>\n      <td>PROFANITY</td>\n    </tr>\n    <tr>\n      <th>4</th>\n      <td>d93e05f7-bfdd-4cdb-99d8-3048761b30ff</td>\n      <td>otomasyon sistemlerine dogrudan baglanabilir</td>\n      <td>0</td>\n      <td>OTHER</td>\n    </tr>\n  </tbody>\n</table>\n</div>"
     },
     "execution_count": 109,
     "metadata": {},
     "output_type": "execute_result"
    }
   ],
   "source": [
    "df.head()"
   ],
   "metadata": {
    "collapsed": false
   }
  },
  {
   "cell_type": "code",
   "execution_count": 110,
   "outputs": [
    {
     "name": "stdout",
     "output_type": "stream",
     "text": [
      "id              189\n",
      "text             40\n",
      "is_offensive    189\n",
      "target          189\n",
      "dtype: int64\n"
     ]
    }
   ],
   "source": [
    "print(df[df.duplicated(subset='text')].count())"
   ],
   "metadata": {
    "collapsed": false
   }
  },
  {
   "cell_type": "code",
   "execution_count": 111,
   "outputs": [
    {
     "name": "stdout",
     "output_type": "stream",
     "text": [
      "id              0\n",
      "text            0\n",
      "is_offensive    0\n",
      "target          0\n",
      "dtype: int64\n"
     ]
    }
   ],
   "source": [
    "df.drop_duplicates(subset='text', inplace=True)\n",
    "print(df[df.duplicated(subset='text')].count())"
   ],
   "metadata": {
    "collapsed": false
   }
  },
  {
   "cell_type": "code",
   "execution_count": 112,
   "metadata": {},
   "outputs": [
    {
     "data": {
      "text/plain": "      target  is_offensive  count\n0     INSULT             1   2393\n1      OTHER             0   3511\n2      OTHER             1     56\n3  PROFANITY             1   2372\n4     RACIST             0      1\n5     RACIST             1   2016\n6     SEXIST             1   2079",
      "text/html": "<div>\n<style scoped>\n    .dataframe tbody tr th:only-of-type {\n        vertical-align: middle;\n    }\n\n    .dataframe tbody tr th {\n        vertical-align: top;\n    }\n\n    .dataframe thead th {\n        text-align: right;\n    }\n</style>\n<table border=\"1\" class=\"dataframe\">\n  <thead>\n    <tr style=\"text-align: right;\">\n      <th></th>\n      <th>target</th>\n      <th>is_offensive</th>\n      <th>count</th>\n    </tr>\n  </thead>\n  <tbody>\n    <tr>\n      <th>0</th>\n      <td>INSULT</td>\n      <td>1</td>\n      <td>2393</td>\n    </tr>\n    <tr>\n      <th>1</th>\n      <td>OTHER</td>\n      <td>0</td>\n      <td>3511</td>\n    </tr>\n    <tr>\n      <th>2</th>\n      <td>OTHER</td>\n      <td>1</td>\n      <td>56</td>\n    </tr>\n    <tr>\n      <th>3</th>\n      <td>PROFANITY</td>\n      <td>1</td>\n      <td>2372</td>\n    </tr>\n    <tr>\n      <th>4</th>\n      <td>RACIST</td>\n      <td>0</td>\n      <td>1</td>\n    </tr>\n    <tr>\n      <th>5</th>\n      <td>RACIST</td>\n      <td>1</td>\n      <td>2016</td>\n    </tr>\n    <tr>\n      <th>6</th>\n      <td>SEXIST</td>\n      <td>1</td>\n      <td>2079</td>\n    </tr>\n  </tbody>\n</table>\n</div>"
     },
     "execution_count": 112,
     "metadata": {},
     "output_type": "execute_result"
    }
   ],
   "source": [
    "df.groupby(['target', 'is_offensive']).size().reset_index(name='count')"
   ]
  },
  {
   "cell_type": "code",
   "execution_count": 113,
   "metadata": {},
   "outputs": [],
   "source": [
    "def remove_short_text(df: pd.DataFrame, min_len: int = 5) -> pd.DataFrame:\n",
    "    \"\"\"\n",
    "    Remove observations from the input DataFrame with short text values based on a minimum length threshold.\n",
    "    \n",
    "    Parameters\n",
    "    ----------\n",
    "    df : pandas.DataFrame\n",
    "        The input DataFrame with the text column\n",
    "    min_len : int, optional (default=5)\n",
    "        The minimum length threshold for text values to be considered valid\n",
    "        \n",
    "    Returns\n",
    "    -------\n",
    "    pandas.DataFrame\n",
    "        The modified DataFrame with the short text values removed\n",
    "        \n",
    "    Notes\n",
    "    -----\n",
    "    This function removes observations from the input DataFrame where the length of the text value is less than the\n",
    "    specified minimum length threshold. The function first identifies the indexes of the observations with short text\n",
    "    values based on the minimum length threshold. Then, the function drops those observations from the input DataFrame.\n",
    "    \"\"\"\n",
    "\n",
    "    result = [index for index, i in enumerate(df.text) if len(str(i)) < min_len]\n",
    "    df.drop(df.index[result], inplace=True)\n",
    "    return df\n"
   ]
  },
  {
   "cell_type": "code",
   "execution_count": 114,
   "outputs": [
    {
     "data": {
      "text/plain": "                                         id  \\\n0      81c11060-a240-4d54-841b-9e2916039e85   \n1      be80ebbf-b322-4c3b-afa1-94932ea80731   \n2      f99e2513-83ed-4076-ac72-b9e2cff3f049   \n3      83ed2b2e-b815-4f36-9fc4-80a9050cf2d0   \n4      d93e05f7-bfdd-4cdb-99d8-3048761b30ff   \n...                                     ...   \n12612  71eedfa1-8fa6-425c-b982-258c3b29c003   \n12613  b38eed16-6501-4563-8b33-ff2e634bb8e5   \n12614  c8a051a8-94ef-4b64-a48e-54d0fa4f8323   \n12615  513a7e6d-4207-4a16-9b47-972f26e23cfe   \n12616  247834c9-ad37-4576-a094-69d70c69b124   \n\n                                                    text  is_offensive  \\\n0                                            curuk disli             1   \n1      bu adamin islama ve muslumanlara verdigi zarar...             1   \n2                                   erkekler zora gelmez             1   \n3      utanmazin gotune kazik sokmuslar bu tikirti ne...             1   \n4           otomasyon sistemlerine dogrudan baglanabilir             0   \n...                                                  ...           ...   \n12612  uyuma taklidi yapan tehlikeli bir hayvanin goz...             0   \n12613          yolda at kavga eden uc oglan cocugu gorur             0   \n12614  sizin kopeklerinizin burnu bile daha iyi koku ...             0   \n12615  hayalleri gercek etmek icin birisinin delilik ...             0   \n12616  deliklerden birini bulsan digerini bulamiyorsu...             0   \n\n          target  \n0         INSULT  \n1         RACIST  \n2         SEXIST  \n3      PROFANITY  \n4          OTHER  \n...          ...  \n12612      OTHER  \n12613      OTHER  \n12614      OTHER  \n12615      OTHER  \n12616      OTHER  \n\n[12427 rows x 4 columns]",
      "text/html": "<div>\n<style scoped>\n    .dataframe tbody tr th:only-of-type {\n        vertical-align: middle;\n    }\n\n    .dataframe tbody tr th {\n        vertical-align: top;\n    }\n\n    .dataframe thead th {\n        text-align: right;\n    }\n</style>\n<table border=\"1\" class=\"dataframe\">\n  <thead>\n    <tr style=\"text-align: right;\">\n      <th></th>\n      <th>id</th>\n      <th>text</th>\n      <th>is_offensive</th>\n      <th>target</th>\n    </tr>\n  </thead>\n  <tbody>\n    <tr>\n      <th>0</th>\n      <td>81c11060-a240-4d54-841b-9e2916039e85</td>\n      <td>curuk disli</td>\n      <td>1</td>\n      <td>INSULT</td>\n    </tr>\n    <tr>\n      <th>1</th>\n      <td>be80ebbf-b322-4c3b-afa1-94932ea80731</td>\n      <td>bu adamin islama ve muslumanlara verdigi zarar...</td>\n      <td>1</td>\n      <td>RACIST</td>\n    </tr>\n    <tr>\n      <th>2</th>\n      <td>f99e2513-83ed-4076-ac72-b9e2cff3f049</td>\n      <td>erkekler zora gelmez</td>\n      <td>1</td>\n      <td>SEXIST</td>\n    </tr>\n    <tr>\n      <th>3</th>\n      <td>83ed2b2e-b815-4f36-9fc4-80a9050cf2d0</td>\n      <td>utanmazin gotune kazik sokmuslar bu tikirti ne...</td>\n      <td>1</td>\n      <td>PROFANITY</td>\n    </tr>\n    <tr>\n      <th>4</th>\n      <td>d93e05f7-bfdd-4cdb-99d8-3048761b30ff</td>\n      <td>otomasyon sistemlerine dogrudan baglanabilir</td>\n      <td>0</td>\n      <td>OTHER</td>\n    </tr>\n    <tr>\n      <th>...</th>\n      <td>...</td>\n      <td>...</td>\n      <td>...</td>\n      <td>...</td>\n    </tr>\n    <tr>\n      <th>12612</th>\n      <td>71eedfa1-8fa6-425c-b982-258c3b29c003</td>\n      <td>uyuma taklidi yapan tehlikeli bir hayvanin goz...</td>\n      <td>0</td>\n      <td>OTHER</td>\n    </tr>\n    <tr>\n      <th>12613</th>\n      <td>b38eed16-6501-4563-8b33-ff2e634bb8e5</td>\n      <td>yolda at kavga eden uc oglan cocugu gorur</td>\n      <td>0</td>\n      <td>OTHER</td>\n    </tr>\n    <tr>\n      <th>12614</th>\n      <td>c8a051a8-94ef-4b64-a48e-54d0fa4f8323</td>\n      <td>sizin kopeklerinizin burnu bile daha iyi koku ...</td>\n      <td>0</td>\n      <td>OTHER</td>\n    </tr>\n    <tr>\n      <th>12615</th>\n      <td>513a7e6d-4207-4a16-9b47-972f26e23cfe</td>\n      <td>hayalleri gercek etmek icin birisinin delilik ...</td>\n      <td>0</td>\n      <td>OTHER</td>\n    </tr>\n    <tr>\n      <th>12616</th>\n      <td>247834c9-ad37-4576-a094-69d70c69b124</td>\n      <td>deliklerden birini bulsan digerini bulamiyorsu...</td>\n      <td>0</td>\n      <td>OTHER</td>\n    </tr>\n  </tbody>\n</table>\n<p>12427 rows × 4 columns</p>\n</div>"
     },
     "execution_count": 114,
     "metadata": {},
     "output_type": "execute_result"
    }
   ],
   "source": [
    "remove_short_text(df)"
   ],
   "metadata": {
    "collapsed": false
   }
  },
  {
   "cell_type": "code",
   "execution_count": 115,
   "metadata": {},
   "outputs": [
    {
     "data": {
      "text/plain": "      target  is_offensive  count\n0     INSULT             1   2393\n1      OTHER             0   3511\n2      OTHER             1     56\n3  PROFANITY             1   2372\n4     RACIST             1   2016\n5     SEXIST             1   2079",
      "text/html": "<div>\n<style scoped>\n    .dataframe tbody tr th:only-of-type {\n        vertical-align: middle;\n    }\n\n    .dataframe tbody tr th {\n        vertical-align: top;\n    }\n\n    .dataframe thead th {\n        text-align: right;\n    }\n</style>\n<table border=\"1\" class=\"dataframe\">\n  <thead>\n    <tr style=\"text-align: right;\">\n      <th></th>\n      <th>target</th>\n      <th>is_offensive</th>\n      <th>count</th>\n    </tr>\n  </thead>\n  <tbody>\n    <tr>\n      <th>0</th>\n      <td>INSULT</td>\n      <td>1</td>\n      <td>2393</td>\n    </tr>\n    <tr>\n      <th>1</th>\n      <td>OTHER</td>\n      <td>0</td>\n      <td>3511</td>\n    </tr>\n    <tr>\n      <th>2</th>\n      <td>OTHER</td>\n      <td>1</td>\n      <td>56</td>\n    </tr>\n    <tr>\n      <th>3</th>\n      <td>PROFANITY</td>\n      <td>1</td>\n      <td>2372</td>\n    </tr>\n    <tr>\n      <th>4</th>\n      <td>RACIST</td>\n      <td>1</td>\n      <td>2016</td>\n    </tr>\n    <tr>\n      <th>5</th>\n      <td>SEXIST</td>\n      <td>1</td>\n      <td>2079</td>\n    </tr>\n  </tbody>\n</table>\n</div>"
     },
     "execution_count": 115,
     "metadata": {},
     "output_type": "execute_result"
    }
   ],
   "source": [
    "df.groupby(['target', 'is_offensive']).size().reset_index(name='count')"
   ]
  },
  {
   "cell_type": "code",
   "execution_count": 116,
   "metadata": {},
   "outputs": [
    {
     "data": {
      "text/plain": "                                         id  \\\n0      81c11060-a240-4d54-841b-9e2916039e85   \n1      be80ebbf-b322-4c3b-afa1-94932ea80731   \n2      f99e2513-83ed-4076-ac72-b9e2cff3f049   \n3      83ed2b2e-b815-4f36-9fc4-80a9050cf2d0   \n4      d93e05f7-bfdd-4cdb-99d8-3048761b30ff   \n...                                     ...   \n12612  71eedfa1-8fa6-425c-b982-258c3b29c003   \n12613  b38eed16-6501-4563-8b33-ff2e634bb8e5   \n12614  c8a051a8-94ef-4b64-a48e-54d0fa4f8323   \n12615  513a7e6d-4207-4a16-9b47-972f26e23cfe   \n12616  247834c9-ad37-4576-a094-69d70c69b124   \n\n                                                    text  is_offensive  \\\n0                                            curuk disli             1   \n1      bu adamin islama ve muslumanlara verdigi zarar...             1   \n2                                   erkekler zora gelmez             1   \n3      utanmazin gotune kazik sokmuslar bu tikirti ne...             1   \n4           otomasyon sistemlerine dogrudan baglanabilir             0   \n...                                                  ...           ...   \n12612  uyuma taklidi yapan tehlikeli bir hayvanin goz...             0   \n12613          yolda at kavga eden uc oglan cocugu gorur             0   \n12614  sizin kopeklerinizin burnu bile daha iyi koku ...             0   \n12615  hayalleri gercek etmek icin birisinin delilik ...             0   \n12616  deliklerden birini bulsan digerini bulamiyorsu...             0   \n\n          target  \n0         INSULT  \n1         RACIST  \n2         SEXIST  \n3      PROFANITY  \n4          OTHER  \n...          ...  \n12612      OTHER  \n12613      OTHER  \n12614      OTHER  \n12615      OTHER  \n12616      OTHER  \n\n[12427 rows x 4 columns]",
      "text/html": "<div>\n<style scoped>\n    .dataframe tbody tr th:only-of-type {\n        vertical-align: middle;\n    }\n\n    .dataframe tbody tr th {\n        vertical-align: top;\n    }\n\n    .dataframe thead th {\n        text-align: right;\n    }\n</style>\n<table border=\"1\" class=\"dataframe\">\n  <thead>\n    <tr style=\"text-align: right;\">\n      <th></th>\n      <th>id</th>\n      <th>text</th>\n      <th>is_offensive</th>\n      <th>target</th>\n    </tr>\n  </thead>\n  <tbody>\n    <tr>\n      <th>0</th>\n      <td>81c11060-a240-4d54-841b-9e2916039e85</td>\n      <td>curuk disli</td>\n      <td>1</td>\n      <td>INSULT</td>\n    </tr>\n    <tr>\n      <th>1</th>\n      <td>be80ebbf-b322-4c3b-afa1-94932ea80731</td>\n      <td>bu adamin islama ve muslumanlara verdigi zarar...</td>\n      <td>1</td>\n      <td>RACIST</td>\n    </tr>\n    <tr>\n      <th>2</th>\n      <td>f99e2513-83ed-4076-ac72-b9e2cff3f049</td>\n      <td>erkekler zora gelmez</td>\n      <td>1</td>\n      <td>SEXIST</td>\n    </tr>\n    <tr>\n      <th>3</th>\n      <td>83ed2b2e-b815-4f36-9fc4-80a9050cf2d0</td>\n      <td>utanmazin gotune kazik sokmuslar bu tikirti ne...</td>\n      <td>1</td>\n      <td>PROFANITY</td>\n    </tr>\n    <tr>\n      <th>4</th>\n      <td>d93e05f7-bfdd-4cdb-99d8-3048761b30ff</td>\n      <td>otomasyon sistemlerine dogrudan baglanabilir</td>\n      <td>0</td>\n      <td>OTHER</td>\n    </tr>\n    <tr>\n      <th>...</th>\n      <td>...</td>\n      <td>...</td>\n      <td>...</td>\n      <td>...</td>\n    </tr>\n    <tr>\n      <th>12612</th>\n      <td>71eedfa1-8fa6-425c-b982-258c3b29c003</td>\n      <td>uyuma taklidi yapan tehlikeli bir hayvanin goz...</td>\n      <td>0</td>\n      <td>OTHER</td>\n    </tr>\n    <tr>\n      <th>12613</th>\n      <td>b38eed16-6501-4563-8b33-ff2e634bb8e5</td>\n      <td>yolda at kavga eden uc oglan cocugu gorur</td>\n      <td>0</td>\n      <td>OTHER</td>\n    </tr>\n    <tr>\n      <th>12614</th>\n      <td>c8a051a8-94ef-4b64-a48e-54d0fa4f8323</td>\n      <td>sizin kopeklerinizin burnu bile daha iyi koku ...</td>\n      <td>0</td>\n      <td>OTHER</td>\n    </tr>\n    <tr>\n      <th>12615</th>\n      <td>513a7e6d-4207-4a16-9b47-972f26e23cfe</td>\n      <td>hayalleri gercek etmek icin birisinin delilik ...</td>\n      <td>0</td>\n      <td>OTHER</td>\n    </tr>\n    <tr>\n      <th>12616</th>\n      <td>247834c9-ad37-4576-a094-69d70c69b124</td>\n      <td>deliklerden birini bulsan digerini bulamiyorsu...</td>\n      <td>0</td>\n      <td>OTHER</td>\n    </tr>\n  </tbody>\n</table>\n<p>12427 rows × 4 columns</p>\n</div>"
     },
     "execution_count": 116,
     "metadata": {},
     "output_type": "execute_result"
    }
   ],
   "source": [
    "def replace_is_offensive(df: pd.DataFrame) -> pd.DataFrame:\n",
    "    \"\"\"\n",
    "    Replace the value of 'is_offensive' from 1 to 0 for the observation units that meet the following criteria:\n",
    "    \n",
    "    Parameters\n",
    "    ----------\n",
    "    df : pandas.DataFrame\n",
    "        The input DataFrame that contains the 'target' and 'is_offensive' columns\n",
    "    \n",
    "    Returns\n",
    "    -------\n",
    "    pandas.DataFrame\n",
    "        The modified DataFrame with the 'is_offensive' values replaced\n",
    "        \n",
    "    Notes\n",
    "    -----\n",
    "    This function modifies the input DataFrame by replacing the 'is_offensive' values that meet the criteria.\n",
    "    The function replaces 'is_offensive' values from 1 to 0 where the 'target' column is 'OTHER' and the 'is_offensive' column is 1.\n",
    "    \"\"\"\n",
    "    idx = df.loc[((df[\"target\"] == \"OTHER\") & (df[\"is_offensive\"] == 1))].index\n",
    "    df.loc[idx, \"is_offensive\"] = 0\n",
    "    return df\n",
    "\n",
    "replace_is_offensive(df)"
   ]
  },
  {
   "cell_type": "code",
   "execution_count": 117,
   "metadata": {},
   "outputs": [
    {
     "data": {
      "text/plain": "      target  is_offensive  count\n0     INSULT             1   2393\n1      OTHER             0   3567\n2  PROFANITY             1   2372\n3     RACIST             1   2016\n4     SEXIST             1   2079",
      "text/html": "<div>\n<style scoped>\n    .dataframe tbody tr th:only-of-type {\n        vertical-align: middle;\n    }\n\n    .dataframe tbody tr th {\n        vertical-align: top;\n    }\n\n    .dataframe thead th {\n        text-align: right;\n    }\n</style>\n<table border=\"1\" class=\"dataframe\">\n  <thead>\n    <tr style=\"text-align: right;\">\n      <th></th>\n      <th>target</th>\n      <th>is_offensive</th>\n      <th>count</th>\n    </tr>\n  </thead>\n  <tbody>\n    <tr>\n      <th>0</th>\n      <td>INSULT</td>\n      <td>1</td>\n      <td>2393</td>\n    </tr>\n    <tr>\n      <th>1</th>\n      <td>OTHER</td>\n      <td>0</td>\n      <td>3567</td>\n    </tr>\n    <tr>\n      <th>2</th>\n      <td>PROFANITY</td>\n      <td>1</td>\n      <td>2372</td>\n    </tr>\n    <tr>\n      <th>3</th>\n      <td>RACIST</td>\n      <td>1</td>\n      <td>2016</td>\n    </tr>\n    <tr>\n      <th>4</th>\n      <td>SEXIST</td>\n      <td>1</td>\n      <td>2079</td>\n    </tr>\n  </tbody>\n</table>\n</div>"
     },
     "execution_count": 117,
     "metadata": {},
     "output_type": "execute_result"
    }
   ],
   "source": [
    "df.groupby(['target', 'is_offensive']).size().reset_index(name='count')"
   ]
  },
  {
   "cell_type": "code",
   "execution_count": 118,
   "metadata": {},
   "outputs": [],
   "source": [
    "df.to_csv('../data/obs_clean_data.csv', index=False)"
   ]
  },
  {
   "cell_type": "code",
   "execution_count": 101,
   "outputs": [
    {
     "data": {
      "text/plain": "'profile = ProfileReport(df, title=\"Pandas Profiling Report\")\\nprofile'"
     },
     "execution_count": 101,
     "metadata": {},
     "output_type": "execute_result"
    }
   ],
   "source": [
    "\"\"\"profile = ProfileReport(df, title=\"Pandas Profiling Report\")\n",
    "profile\"\"\""
   ],
   "metadata": {
    "collapsed": false
   }
  },
  {
   "cell_type": "code",
   "execution_count": 102,
   "outputs": [],
   "source": [
    "#profile.to_file(\"data/data_report.html\")"
   ],
   "metadata": {
    "collapsed": false
   }
  },
  {
   "cell_type": "code",
   "execution_count": 103,
   "outputs": [],
   "source": [
    "#Cinsiyetçilik(SEXIST)\tIrkçılık(RACIST)\tKızdırma(INSULT)&küfür(PROFANITY)\tNötr(OTHER)"
   ],
   "metadata": {
    "collapsed": false
   }
  },
  {
   "cell_type": "code",
   "execution_count": 17,
   "outputs": [],
   "source": [
    "df2022=pd.read_csv('../data/veriseti_toplu - veriseti_toplu.csv')\n",
    "df_new= pd.DataFrame()\n",
    "df_new['text'] = df2022['text']\n",
    "df_new['target'] = df2022['label']\n",
    "df_new.to_csv('../data/veriseti_toplu.csv')"
   ],
   "metadata": {
    "collapsed": false
   }
  },
  {
   "cell_type": "code",
   "execution_count": 18,
   "outputs": [],
   "source": [
    "df = pd.read_csv('../data/veriseti_toplu.csv')\n"
   ],
   "metadata": {
    "collapsed": false
   }
  },
  {
   "cell_type": "code",
   "execution_count": 20,
   "outputs": [],
   "source": [
    "df = df[df['target']=='Kızdırma']\n",
    "df.to_csv('../data/kızdırma.csv')"
   ],
   "metadata": {
    "collapsed": false
   }
  },
  {
   "cell_type": "code",
   "execution_count": null,
   "outputs": [],
   "source": [],
   "metadata": {
    "collapsed": false
   }
  }
 ],
 "metadata": {
  "kernelspec": {
   "display_name": "base",
   "language": "python",
   "name": "python3"
  },
  "language_info": {
   "codemirror_mode": {
    "name": "ipython",
    "version": 3
   },
   "file_extension": ".py",
   "mimetype": "text/x-python",
   "name": "python",
   "nbconvert_exporter": "python",
   "pygments_lexer": "ipython3",
   "version": "3.9.7"
  },
  "orig_nbformat": 4
 },
 "nbformat": 4,
 "nbformat_minor": 2
}
